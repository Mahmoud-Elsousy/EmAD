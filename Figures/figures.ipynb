{
 "metadata": {
  "language_info": {
   "codemirror_mode": {
    "name": "ipython",
    "version": 3
   },
   "file_extension": ".py",
   "mimetype": "text/x-python",
   "name": "python",
   "nbconvert_exporter": "python",
   "pygments_lexer": "ipython3",
   "version": "3.7.6-final"
  },
  "orig_nbformat": 2,
  "kernelspec": {
   "name": "python_defaultSpec_1598593737748",
   "display_name": "Python 3.7.6 64-bit ('base': conda)"
  }
 },
 "nbformat": 4,
 "nbformat_minor": 2,
 "cells": [
  {
   "cell_type": "code",
   "execution_count": 1,
   "metadata": {},
   "outputs": [],
   "source": [
    "import pandas as pd"
   ]
  },
  {
   "cell_type": "code",
   "execution_count": 82,
   "metadata": {},
   "outputs": [
    {
     "output_type": "execute_result",
     "data": {
      "text/plain": "    Model  Size(KB)  Training Time(s)     B1    B10  Inference Time(ms)  \\\n0     MCD     18.00              1.73  0.180  0.019               0.002   \n1    PCA      16.54              0.01  0.436  0.041               0.004   \n2  OCSVM      27.63              0.12  0.371  0.071               0.041   \n3    LMDD     15.82              5.89  5.342  2.563               2.725   \n4    LOF     213.35              0.02  1.142  0.128               0.023   \n\n     B1000  Training Samples  Testing Samples  Features  \n0  0.00033              1000             1000         2  \n1  0.00100              1000             1000         2  \n2  0.03800              1000             1000         2  \n3  3.58500              1000             1000         2  \n4  0.01300              1000             1000         2  ",
      "text/html": "<div>\n<style scoped>\n    .dataframe tbody tr th:only-of-type {\n        vertical-align: middle;\n    }\n\n    .dataframe tbody tr th {\n        vertical-align: top;\n    }\n\n    .dataframe thead th {\n        text-align: right;\n    }\n</style>\n<table border=\"1\" class=\"dataframe\">\n  <thead>\n    <tr style=\"text-align: right;\">\n      <th></th>\n      <th>Model</th>\n      <th>Size(KB)</th>\n      <th>Training Time(s)</th>\n      <th>B1</th>\n      <th>B10</th>\n      <th>Inference Time(ms)</th>\n      <th>B1000</th>\n      <th>Training Samples</th>\n      <th>Testing Samples</th>\n      <th>Features</th>\n    </tr>\n  </thead>\n  <tbody>\n    <tr>\n      <th>0</th>\n      <td>MCD</td>\n      <td>18.00</td>\n      <td>1.73</td>\n      <td>0.180</td>\n      <td>0.019</td>\n      <td>0.002</td>\n      <td>0.00033</td>\n      <td>1000</td>\n      <td>1000</td>\n      <td>2</td>\n    </tr>\n    <tr>\n      <th>1</th>\n      <td>PCA</td>\n      <td>16.54</td>\n      <td>0.01</td>\n      <td>0.436</td>\n      <td>0.041</td>\n      <td>0.004</td>\n      <td>0.00100</td>\n      <td>1000</td>\n      <td>1000</td>\n      <td>2</td>\n    </tr>\n    <tr>\n      <th>2</th>\n      <td>OCSVM</td>\n      <td>27.63</td>\n      <td>0.12</td>\n      <td>0.371</td>\n      <td>0.071</td>\n      <td>0.041</td>\n      <td>0.03800</td>\n      <td>1000</td>\n      <td>1000</td>\n      <td>2</td>\n    </tr>\n    <tr>\n      <th>3</th>\n      <td>LMDD</td>\n      <td>15.82</td>\n      <td>5.89</td>\n      <td>5.342</td>\n      <td>2.563</td>\n      <td>2.725</td>\n      <td>3.58500</td>\n      <td>1000</td>\n      <td>1000</td>\n      <td>2</td>\n    </tr>\n    <tr>\n      <th>4</th>\n      <td>LOF</td>\n      <td>213.35</td>\n      <td>0.02</td>\n      <td>1.142</td>\n      <td>0.128</td>\n      <td>0.023</td>\n      <td>0.01300</td>\n      <td>1000</td>\n      <td>1000</td>\n      <td>2</td>\n    </tr>\n  </tbody>\n</table>\n</div>"
     },
     "metadata": {},
     "execution_count": 82
    }
   ],
   "source": [
    "features = pd.read_csv('features.csv')\n",
    "samples = pd.read_csv('samples.csv')\n",
    "df = samples.groupby('Model')[['B1','B10','Inference Time(ms)','B1000']].mean()\n",
    "df.columns=['B1','B10','B100','B1000']"
   ]
  },
  {
   "cell_type": "code",
   "execution_count": 117,
   "metadata": {},
   "outputs": [
    {
     "output_type": "display_data",
     "data": {
      "application/vnd.plotly.v1+json": {
       "config": {
        "plotlyServerURL": "https://plot.ly"
       },
       "data": [
        {
         "name": "1 Sample Batch",
         "type": "bar",
         "x": [
          "ABOD",
          "CBLOF",
          "COF",
          "FB ",
          "HBOS",
          "IForest",
          "KNN",
          "LMDD",
          "LOF ",
          "MCD",
          "OCSVM ",
          "PCA "
         ],
         "y": [
          1.2662,
          1.3354,
          0,
          11.830200000000001,
          0.19780000000000003,
          77.9268,
          0.3784,
          5.3192,
          1.166,
          0.18439999999999998,
          0.6428,
          0.42460000000000003
         ]
        },
        {
         "name": "1000 Samples Batch",
         "type": "bar",
         "x": [
          "ABOD",
          "CBLOF",
          "COF",
          "FB ",
          "HBOS",
          "IForest",
          "KNN",
          "LMDD",
          "LOF ",
          "MCD",
          "OCSVM ",
          "PCA "
         ],
         "y": [
          0.7944,
          0.003,
          6.564749999999999,
          0.1332,
          0.000392,
          0.1762,
          0.2258,
          3.5162,
          0.0156,
          0.000258,
          0.2808,
          0.001
         ]
        }
       ],
       "layout": {
        "barmode": "group",
        "template": {
         "data": {
          "bar": [
           {
            "error_x": {
             "color": "#2a3f5f"
            },
            "error_y": {
             "color": "#2a3f5f"
            },
            "marker": {
             "line": {
              "color": "#E5ECF6",
              "width": 0.5
             }
            },
            "type": "bar"
           }
          ],
          "barpolar": [
           {
            "marker": {
             "line": {
              "color": "#E5ECF6",
              "width": 0.5
             }
            },
            "type": "barpolar"
           }
          ],
          "carpet": [
           {
            "aaxis": {
             "endlinecolor": "#2a3f5f",
             "gridcolor": "white",
             "linecolor": "white",
             "minorgridcolor": "white",
             "startlinecolor": "#2a3f5f"
            },
            "baxis": {
             "endlinecolor": "#2a3f5f",
             "gridcolor": "white",
             "linecolor": "white",
             "minorgridcolor": "white",
             "startlinecolor": "#2a3f5f"
            },
            "type": "carpet"
           }
          ],
          "choropleth": [
           {
            "colorbar": {
             "outlinewidth": 0,
             "ticks": ""
            },
            "type": "choropleth"
           }
          ],
          "contour": [
           {
            "colorbar": {
             "outlinewidth": 0,
             "ticks": ""
            },
            "colorscale": [
             [
              0,
              "#0d0887"
             ],
             [
              0.1111111111111111,
              "#46039f"
             ],
             [
              0.2222222222222222,
              "#7201a8"
             ],
             [
              0.3333333333333333,
              "#9c179e"
             ],
             [
              0.4444444444444444,
              "#bd3786"
             ],
             [
              0.5555555555555556,
              "#d8576b"
             ],
             [
              0.6666666666666666,
              "#ed7953"
             ],
             [
              0.7777777777777778,
              "#fb9f3a"
             ],
             [
              0.8888888888888888,
              "#fdca26"
             ],
             [
              1,
              "#f0f921"
             ]
            ],
            "type": "contour"
           }
          ],
          "contourcarpet": [
           {
            "colorbar": {
             "outlinewidth": 0,
             "ticks": ""
            },
            "type": "contourcarpet"
           }
          ],
          "heatmap": [
           {
            "colorbar": {
             "outlinewidth": 0,
             "ticks": ""
            },
            "colorscale": [
             [
              0,
              "#0d0887"
             ],
             [
              0.1111111111111111,
              "#46039f"
             ],
             [
              0.2222222222222222,
              "#7201a8"
             ],
             [
              0.3333333333333333,
              "#9c179e"
             ],
             [
              0.4444444444444444,
              "#bd3786"
             ],
             [
              0.5555555555555556,
              "#d8576b"
             ],
             [
              0.6666666666666666,
              "#ed7953"
             ],
             [
              0.7777777777777778,
              "#fb9f3a"
             ],
             [
              0.8888888888888888,
              "#fdca26"
             ],
             [
              1,
              "#f0f921"
             ]
            ],
            "type": "heatmap"
           }
          ],
          "heatmapgl": [
           {
            "colorbar": {
             "outlinewidth": 0,
             "ticks": ""
            },
            "colorscale": [
             [
              0,
              "#0d0887"
             ],
             [
              0.1111111111111111,
              "#46039f"
             ],
             [
              0.2222222222222222,
              "#7201a8"
             ],
             [
              0.3333333333333333,
              "#9c179e"
             ],
             [
              0.4444444444444444,
              "#bd3786"
             ],
             [
              0.5555555555555556,
              "#d8576b"
             ],
             [
              0.6666666666666666,
              "#ed7953"
             ],
             [
              0.7777777777777778,
              "#fb9f3a"
             ],
             [
              0.8888888888888888,
              "#fdca26"
             ],
             [
              1,
              "#f0f921"
             ]
            ],
            "type": "heatmapgl"
           }
          ],
          "histogram": [
           {
            "marker": {
             "colorbar": {
              "outlinewidth": 0,
              "ticks": ""
             }
            },
            "type": "histogram"
           }
          ],
          "histogram2d": [
           {
            "colorbar": {
             "outlinewidth": 0,
             "ticks": ""
            },
            "colorscale": [
             [
              0,
              "#0d0887"
             ],
             [
              0.1111111111111111,
              "#46039f"
             ],
             [
              0.2222222222222222,
              "#7201a8"
             ],
             [
              0.3333333333333333,
              "#9c179e"
             ],
             [
              0.4444444444444444,
              "#bd3786"
             ],
             [
              0.5555555555555556,
              "#d8576b"
             ],
             [
              0.6666666666666666,
              "#ed7953"
             ],
             [
              0.7777777777777778,
              "#fb9f3a"
             ],
             [
              0.8888888888888888,
              "#fdca26"
             ],
             [
              1,
              "#f0f921"
             ]
            ],
            "type": "histogram2d"
           }
          ],
          "histogram2dcontour": [
           {
            "colorbar": {
             "outlinewidth": 0,
             "ticks": ""
            },
            "colorscale": [
             [
              0,
              "#0d0887"
             ],
             [
              0.1111111111111111,
              "#46039f"
             ],
             [
              0.2222222222222222,
              "#7201a8"
             ],
             [
              0.3333333333333333,
              "#9c179e"
             ],
             [
              0.4444444444444444,
              "#bd3786"
             ],
             [
              0.5555555555555556,
              "#d8576b"
             ],
             [
              0.6666666666666666,
              "#ed7953"
             ],
             [
              0.7777777777777778,
              "#fb9f3a"
             ],
             [
              0.8888888888888888,
              "#fdca26"
             ],
             [
              1,
              "#f0f921"
             ]
            ],
            "type": "histogram2dcontour"
           }
          ],
          "mesh3d": [
           {
            "colorbar": {
             "outlinewidth": 0,
             "ticks": ""
            },
            "type": "mesh3d"
           }
          ],
          "parcoords": [
           {
            "line": {
             "colorbar": {
              "outlinewidth": 0,
              "ticks": ""
             }
            },
            "type": "parcoords"
           }
          ],
          "pie": [
           {
            "automargin": true,
            "type": "pie"
           }
          ],
          "scatter": [
           {
            "marker": {
             "colorbar": {
              "outlinewidth": 0,
              "ticks": ""
             }
            },
            "type": "scatter"
           }
          ],
          "scatter3d": [
           {
            "line": {
             "colorbar": {
              "outlinewidth": 0,
              "ticks": ""
             }
            },
            "marker": {
             "colorbar": {
              "outlinewidth": 0,
              "ticks": ""
             }
            },
            "type": "scatter3d"
           }
          ],
          "scattercarpet": [
           {
            "marker": {
             "colorbar": {
              "outlinewidth": 0,
              "ticks": ""
             }
            },
            "type": "scattercarpet"
           }
          ],
          "scattergeo": [
           {
            "marker": {
             "colorbar": {
              "outlinewidth": 0,
              "ticks": ""
             }
            },
            "type": "scattergeo"
           }
          ],
          "scattergl": [
           {
            "marker": {
             "colorbar": {
              "outlinewidth": 0,
              "ticks": ""
             }
            },
            "type": "scattergl"
           }
          ],
          "scattermapbox": [
           {
            "marker": {
             "colorbar": {
              "outlinewidth": 0,
              "ticks": ""
             }
            },
            "type": "scattermapbox"
           }
          ],
          "scatterpolar": [
           {
            "marker": {
             "colorbar": {
              "outlinewidth": 0,
              "ticks": ""
             }
            },
            "type": "scatterpolar"
           }
          ],
          "scatterpolargl": [
           {
            "marker": {
             "colorbar": {
              "outlinewidth": 0,
              "ticks": ""
             }
            },
            "type": "scatterpolargl"
           }
          ],
          "scatterternary": [
           {
            "marker": {
             "colorbar": {
              "outlinewidth": 0,
              "ticks": ""
             }
            },
            "type": "scatterternary"
           }
          ],
          "surface": [
           {
            "colorbar": {
             "outlinewidth": 0,
             "ticks": ""
            },
            "colorscale": [
             [
              0,
              "#0d0887"
             ],
             [
              0.1111111111111111,
              "#46039f"
             ],
             [
              0.2222222222222222,
              "#7201a8"
             ],
             [
              0.3333333333333333,
              "#9c179e"
             ],
             [
              0.4444444444444444,
              "#bd3786"
             ],
             [
              0.5555555555555556,
              "#d8576b"
             ],
             [
              0.6666666666666666,
              "#ed7953"
             ],
             [
              0.7777777777777778,
              "#fb9f3a"
             ],
             [
              0.8888888888888888,
              "#fdca26"
             ],
             [
              1,
              "#f0f921"
             ]
            ],
            "type": "surface"
           }
          ],
          "table": [
           {
            "cells": {
             "fill": {
              "color": "#EBF0F8"
             },
             "line": {
              "color": "white"
             }
            },
            "header": {
             "fill": {
              "color": "#C8D4E3"
             },
             "line": {
              "color": "white"
             }
            },
            "type": "table"
           }
          ]
         },
         "layout": {
          "annotationdefaults": {
           "arrowcolor": "#2a3f5f",
           "arrowhead": 0,
           "arrowwidth": 1
          },
          "coloraxis": {
           "colorbar": {
            "outlinewidth": 0,
            "ticks": ""
           }
          },
          "colorscale": {
           "diverging": [
            [
             0,
             "#8e0152"
            ],
            [
             0.1,
             "#c51b7d"
            ],
            [
             0.2,
             "#de77ae"
            ],
            [
             0.3,
             "#f1b6da"
            ],
            [
             0.4,
             "#fde0ef"
            ],
            [
             0.5,
             "#f7f7f7"
            ],
            [
             0.6,
             "#e6f5d0"
            ],
            [
             0.7,
             "#b8e186"
            ],
            [
             0.8,
             "#7fbc41"
            ],
            [
             0.9,
             "#4d9221"
            ],
            [
             1,
             "#276419"
            ]
           ],
           "sequential": [
            [
             0,
             "#0d0887"
            ],
            [
             0.1111111111111111,
             "#46039f"
            ],
            [
             0.2222222222222222,
             "#7201a8"
            ],
            [
             0.3333333333333333,
             "#9c179e"
            ],
            [
             0.4444444444444444,
             "#bd3786"
            ],
            [
             0.5555555555555556,
             "#d8576b"
            ],
            [
             0.6666666666666666,
             "#ed7953"
            ],
            [
             0.7777777777777778,
             "#fb9f3a"
            ],
            [
             0.8888888888888888,
             "#fdca26"
            ],
            [
             1,
             "#f0f921"
            ]
           ],
           "sequentialminus": [
            [
             0,
             "#0d0887"
            ],
            [
             0.1111111111111111,
             "#46039f"
            ],
            [
             0.2222222222222222,
             "#7201a8"
            ],
            [
             0.3333333333333333,
             "#9c179e"
            ],
            [
             0.4444444444444444,
             "#bd3786"
            ],
            [
             0.5555555555555556,
             "#d8576b"
            ],
            [
             0.6666666666666666,
             "#ed7953"
            ],
            [
             0.7777777777777778,
             "#fb9f3a"
            ],
            [
             0.8888888888888888,
             "#fdca26"
            ],
            [
             1,
             "#f0f921"
            ]
           ]
          },
          "colorway": [
           "#636efa",
           "#EF553B",
           "#00cc96",
           "#ab63fa",
           "#FFA15A",
           "#19d3f3",
           "#FF6692",
           "#B6E880",
           "#FF97FF",
           "#FECB52"
          ],
          "font": {
           "color": "#2a3f5f"
          },
          "geo": {
           "bgcolor": "white",
           "lakecolor": "white",
           "landcolor": "#E5ECF6",
           "showlakes": true,
           "showland": true,
           "subunitcolor": "white"
          },
          "hoverlabel": {
           "align": "left"
          },
          "hovermode": "closest",
          "mapbox": {
           "style": "light"
          },
          "paper_bgcolor": "white",
          "plot_bgcolor": "#E5ECF6",
          "polar": {
           "angularaxis": {
            "gridcolor": "white",
            "linecolor": "white",
            "ticks": ""
           },
           "bgcolor": "#E5ECF6",
           "radialaxis": {
            "gridcolor": "white",
            "linecolor": "white",
            "ticks": ""
           }
          },
          "scene": {
           "xaxis": {
            "backgroundcolor": "#E5ECF6",
            "gridcolor": "white",
            "gridwidth": 2,
            "linecolor": "white",
            "showbackground": true,
            "ticks": "",
            "zerolinecolor": "white"
           },
           "yaxis": {
            "backgroundcolor": "#E5ECF6",
            "gridcolor": "white",
            "gridwidth": 2,
            "linecolor": "white",
            "showbackground": true,
            "ticks": "",
            "zerolinecolor": "white"
           },
           "zaxis": {
            "backgroundcolor": "#E5ECF6",
            "gridcolor": "white",
            "gridwidth": 2,
            "linecolor": "white",
            "showbackground": true,
            "ticks": "",
            "zerolinecolor": "white"
           }
          },
          "shapedefaults": {
           "line": {
            "color": "#2a3f5f"
           }
          },
          "ternary": {
           "aaxis": {
            "gridcolor": "white",
            "linecolor": "white",
            "ticks": ""
           },
           "baxis": {
            "gridcolor": "white",
            "linecolor": "white",
            "ticks": ""
           },
           "bgcolor": "#E5ECF6",
           "caxis": {
            "gridcolor": "white",
            "linecolor": "white",
            "ticks": ""
           }
          },
          "title": {
           "x": 0.05
          },
          "xaxis": {
           "automargin": true,
           "gridcolor": "white",
           "linecolor": "white",
           "ticks": "",
           "title": {
            "standoff": 15
           },
           "zerolinecolor": "white",
           "zerolinewidth": 2
          },
          "yaxis": {
           "automargin": true,
           "gridcolor": "white",
           "linecolor": "white",
           "ticks": "",
           "title": {
            "standoff": 15
           },
           "zerolinecolor": "white",
           "zerolinewidth": 2
          }
         }
        },
        "xaxis": {
         "tickangle": -45
        },
        "yaxis": {
         "title": {
          "text": "Inference Time per Sample(ms)"
         },
         "type": "log"
        }
       }
      }
     },
     "metadata": {}
    }
   ],
   "source": [
    "import plotly.graph_objects as go\n",
    "fig = go.Figure()\n",
    "fig.add_trace(go.Bar(\n",
    "    x=df.index,\n",
    "    y=df.B1,\n",
    "    name='1 Sample Batch',\n",
    "    \n",
    "    # marker_color='indianred'\n",
    "))\n",
    "# fig.add_trace(go.Bar(\n",
    "#     x=df.index,\n",
    "#     y=df.B10,\n",
    "#     name='10 Samples Batch',\n",
    "#     # marker_color='indianred'\n",
    "# ))\n",
    "# fig.add_trace(go.Bar(\n",
    "#     x=df.index,\n",
    "#     y=df.B100,\n",
    "#     name='100 Samples Batch',\n",
    "#     # marker_color='indianred'\n",
    "# ))\n",
    "fig.add_trace(go.Bar(\n",
    "    x=df.index,\n",
    "    y=df.B1000,\n",
    "    name='1000 Samples Batch',\n",
    "    # marker_color='indianred'\n",
    "))\n",
    "\n",
    "\n",
    "# Here we modify the tickangle of the xaxis, resulting in rotated labels.\n",
    "fig.update_layout(barmode='group', \n",
    "    xaxis_tickangle=-45,\n",
    "    yaxis_type=\"log\", \n",
    "    # title=\"Inference Time per Sample\",\n",
    "    yaxis_title=\"Inference Time per Sample(ms)\",\n",
    "    # xaxis_title=\"Algorithm\",\n",
    "    )\n",
    "fig.show()"
   ]
  },
  {
   "cell_type": "code",
   "execution_count": 120,
   "metadata": {},
   "outputs": [
    {
     "output_type": "display_data",
     "data": {
      "application/vnd.plotly.v1+json": {
       "config": {
        "plotlyServerURL": "https://plot.ly"
       },
       "data": [
        {
         "hovertemplate": "<b>%{hovertext}</b><br><br>Model=MCD<br>Training Samples=%{x}<br>Training Time(s)=%{y}<extra></extra>",
         "hovertext": [
          "MCD",
          "MCD",
          "MCD",
          "MCD",
          "MCD"
         ],
         "legendgroup": "MCD",
         "line": {
          "color": "#636EFA",
          "dash": "solid",
          "shape": "spline"
         },
         "mode": "lines",
         "name": "MCD",
         "orientation": "v",
         "showlegend": true,
         "type": "scatter",
         "x": [
          1000,
          4000,
          8000,
          12000,
          16000
         ],
         "xaxis": "x",
         "y": [
          1.73,
          3.96,
          4.7,
          11.09,
          12.6
         ],
         "yaxis": "y"
        },
        {
         "hovertemplate": "<b>%{hovertext}</b><br><br>Model=PCA <br>Training Samples=%{x}<br>Training Time(s)=%{y}<extra></extra>",
         "hovertext": [
          "PCA ",
          "PCA ",
          "PCA ",
          "PCA ",
          "PCA "
         ],
         "legendgroup": "PCA ",
         "line": {
          "color": "#DC3912",
          "dash": "solid",
          "shape": "spline"
         },
         "mode": "lines",
         "name": "PCA ",
         "orientation": "v",
         "showlegend": true,
         "type": "scatter",
         "x": [
          1000,
          4000,
          8000,
          12000,
          16000
         ],
         "xaxis": "x",
         "y": [
          0.01,
          0.02,
          0.02,
          0.03,
          0.04
         ],
         "yaxis": "y"
        },
        {
         "hovertemplate": "<b>%{hovertext}</b><br><br>Model=OCSVM <br>Training Samples=%{x}<br>Training Time(s)=%{y}<extra></extra>",
         "hovertext": [
          "OCSVM ",
          "OCSVM ",
          "OCSVM ",
          "OCSVM ",
          "OCSVM "
         ],
         "legendgroup": "OCSVM ",
         "line": {
          "color": "#00CC96",
          "dash": "solid",
          "shape": "spline"
         },
         "mode": "lines",
         "name": "OCSVM ",
         "orientation": "v",
         "showlegend": true,
         "type": "scatter",
         "x": [
          1000,
          4000,
          8000,
          12000,
          16000
         ],
         "xaxis": "x",
         "y": [
          0.12,
          2.13,
          9.15,
          23.89,
          43.8
         ],
         "yaxis": "y"
        },
        {
         "hovertemplate": "<b>%{hovertext}</b><br><br>Model=LMDD<br>Training Samples=%{x}<br>Training Time(s)=%{y}<extra></extra>",
         "hovertext": [
          "LMDD",
          "LMDD",
          "LMDD",
          "LMDD",
          "LMDD"
         ],
         "legendgroup": "LMDD",
         "line": {
          "color": "#AB63FA",
          "dash": "solid",
          "shape": "spline"
         },
         "mode": "lines",
         "name": "LMDD",
         "orientation": "v",
         "showlegend": true,
         "type": "scatter",
         "x": [
          1000,
          4000,
          8000,
          12000,
          16000
         ],
         "xaxis": "x",
         "y": [
          5.89,
          22.09,
          65.22,
          129.19,
          213.63
         ],
         "yaxis": "y"
        },
        {
         "hovertemplate": "<b>%{hovertext}</b><br><br>Model=LOF <br>Training Samples=%{x}<br>Training Time(s)=%{y}<extra></extra>",
         "hovertext": [
          "LOF ",
          "LOF ",
          "LOF ",
          "LOF ",
          "LOF "
         ],
         "legendgroup": "LOF ",
         "line": {
          "color": "#FFA15A",
          "dash": "solid",
          "shape": "spline"
         },
         "mode": "lines",
         "name": "LOF ",
         "orientation": "v",
         "showlegend": true,
         "type": "scatter",
         "x": [
          1000,
          4000,
          8000,
          12000,
          16000
         ],
         "xaxis": "x",
         "y": [
          0.02,
          0.07,
          0.16,
          0.26,
          0.38
         ],
         "yaxis": "y"
        },
        {
         "hovertemplate": "<b>%{hovertext}</b><br><br>Model=COF<br>Training Samples=%{x}<br>Training Time(s)=%{y}<extra></extra>",
         "hovertext": [
          "COF",
          "COF",
          "COF",
          "COF"
         ],
         "legendgroup": "COF",
         "line": {
          "color": "#19D3F3",
          "dash": "solid",
          "shape": "spline"
         },
         "mode": "lines",
         "name": "COF",
         "orientation": "v",
         "showlegend": true,
         "type": "scatter",
         "x": [
          1000,
          4000,
          8000,
          12000
         ],
         "xaxis": "x",
         "y": [
          6.6,
          98.95,
          454.69,
          1013.81
         ],
         "yaxis": "y"
        },
        {
         "hovertemplate": "<b>%{hovertext}</b><br><br>Model=CBLOF<br>Training Samples=%{x}<br>Training Time(s)=%{y}<extra></extra>",
         "hovertext": [
          "CBLOF",
          "CBLOF",
          "CBLOF",
          "CBLOF",
          "CBLOF"
         ],
         "legendgroup": "CBLOF",
         "line": {
          "color": "#FF6692",
          "dash": "solid",
          "shape": "spline"
         },
         "mode": "lines",
         "name": "CBLOF",
         "orientation": "v",
         "showlegend": true,
         "type": "scatter",
         "x": [
          1000,
          4000,
          8000,
          12000,
          16000
         ],
         "xaxis": "x",
         "y": [
          4.56,
          2.63,
          5.38,
          9.84,
          13.35
         ],
         "yaxis": "y"
        },
        {
         "hovertemplate": "<b>%{hovertext}</b><br><br>Model=HBOS<br>Training Samples=%{x}<br>Training Time(s)=%{y}<extra></extra>",
         "hovertext": [
          "HBOS",
          "HBOS",
          "HBOS",
          "HBOS",
          "HBOS"
         ],
         "legendgroup": "HBOS",
         "line": {
          "color": "#B6E880",
          "dash": "solid",
          "shape": "spline"
         },
         "mode": "lines",
         "name": "HBOS",
         "orientation": "v",
         "showlegend": true,
         "type": "scatter",
         "x": [
          1000,
          4000,
          8000,
          12000,
          16000
         ],
         "xaxis": "x",
         "y": [
          5.39,
          0,
          0.01,
          0.01,
          0.01
         ],
         "yaxis": "y"
        },
        {
         "hovertemplate": "<b>%{hovertext}</b><br><br>Model=KNN<br>Training Samples=%{x}<br>Training Time(s)=%{y}<extra></extra>",
         "hovertext": [
          "KNN",
          "KNN",
          "KNN",
          "KNN",
          "KNN"
         ],
         "legendgroup": "KNN",
         "line": {
          "color": "#FF97FF",
          "dash": "solid",
          "shape": "spline"
         },
         "mode": "lines",
         "name": "KNN",
         "orientation": "v",
         "showlegend": true,
         "type": "scatter",
         "x": [
          1000,
          4000,
          8000,
          12000,
          16000
         ],
         "xaxis": "x",
         "y": [
          0.01,
          0.03,
          0.09,
          0.14,
          0.21
         ],
         "yaxis": "y"
        },
        {
         "hovertemplate": "<b>%{hovertext}</b><br><br>Model=ABOD<br>Training Samples=%{x}<br>Training Time(s)=%{y}<extra></extra>",
         "hovertext": [
          "ABOD",
          "ABOD",
          "ABOD",
          "ABOD",
          "ABOD"
         ],
         "legendgroup": "ABOD",
         "line": {
          "color": "#16FF32",
          "dash": "solid",
          "shape": "spline"
         },
         "mode": "lines",
         "name": "ABOD",
         "orientation": "v",
         "showlegend": true,
         "type": "scatter",
         "x": [
          1000,
          4000,
          8000,
          12000,
          16000
         ],
         "xaxis": "x",
         "y": [
          3.58,
          3.17,
          6.35,
          9.5,
          12.65
         ],
         "yaxis": "y"
        },
        {
         "hovertemplate": "<b>%{hovertext}</b><br><br>Model=IForest<br>Training Samples=%{x}<br>Training Time(s)=%{y}<extra></extra>",
         "hovertext": [
          "IForest",
          "IForest",
          "IForest",
          "IForest",
          "IForest"
         ],
         "legendgroup": "IForest",
         "line": {
          "color": "rgb(102,102,102)",
          "dash": "solid",
          "shape": "spline"
         },
         "mode": "lines",
         "name": "IForest",
         "orientation": "v",
         "showlegend": true,
         "type": "scatter",
         "x": [
          1000,
          4000,
          8000,
          12000,
          16000
         ],
         "xaxis": "x",
         "y": [
          0.76,
          1.38,
          2.19,
          3,
          3.82
         ],
         "yaxis": "y"
        },
        {
         "hovertemplate": "<b>%{hovertext}</b><br><br>Model=FB <br>Training Samples=%{x}<br>Training Time(s)=%{y}<extra></extra>",
         "hovertext": [
          "FB ",
          "FB ",
          "FB ",
          "FB ",
          "FB "
         ],
         "legendgroup": "FB ",
         "line": {
          "color": "#FBE426",
          "dash": "solid",
          "shape": "spline"
         },
         "mode": "lines",
         "name": "FB ",
         "orientation": "v",
         "showlegend": true,
         "type": "scatter",
         "x": [
          1000,
          4000,
          8000,
          12000,
          16000
         ],
         "xaxis": "x",
         "y": [
          0.17,
          0.69,
          1.56,
          2.61,
          3.56
         ],
         "yaxis": "y"
        }
       ],
       "layout": {
        "legend": {
         "title": {
          "text": "Model"
         },
         "tracegroupgap": 0
        },
        "margin": {
         "t": 60
        },
        "template": {
         "data": {
          "bar": [
           {
            "error_x": {
             "color": "#2a3f5f"
            },
            "error_y": {
             "color": "#2a3f5f"
            },
            "marker": {
             "line": {
              "color": "#E5ECF6",
              "width": 0.5
             }
            },
            "type": "bar"
           }
          ],
          "barpolar": [
           {
            "marker": {
             "line": {
              "color": "#E5ECF6",
              "width": 0.5
             }
            },
            "type": "barpolar"
           }
          ],
          "carpet": [
           {
            "aaxis": {
             "endlinecolor": "#2a3f5f",
             "gridcolor": "white",
             "linecolor": "white",
             "minorgridcolor": "white",
             "startlinecolor": "#2a3f5f"
            },
            "baxis": {
             "endlinecolor": "#2a3f5f",
             "gridcolor": "white",
             "linecolor": "white",
             "minorgridcolor": "white",
             "startlinecolor": "#2a3f5f"
            },
            "type": "carpet"
           }
          ],
          "choropleth": [
           {
            "colorbar": {
             "outlinewidth": 0,
             "ticks": ""
            },
            "type": "choropleth"
           }
          ],
          "contour": [
           {
            "colorbar": {
             "outlinewidth": 0,
             "ticks": ""
            },
            "colorscale": [
             [
              0,
              "#0d0887"
             ],
             [
              0.1111111111111111,
              "#46039f"
             ],
             [
              0.2222222222222222,
              "#7201a8"
             ],
             [
              0.3333333333333333,
              "#9c179e"
             ],
             [
              0.4444444444444444,
              "#bd3786"
             ],
             [
              0.5555555555555556,
              "#d8576b"
             ],
             [
              0.6666666666666666,
              "#ed7953"
             ],
             [
              0.7777777777777778,
              "#fb9f3a"
             ],
             [
              0.8888888888888888,
              "#fdca26"
             ],
             [
              1,
              "#f0f921"
             ]
            ],
            "type": "contour"
           }
          ],
          "contourcarpet": [
           {
            "colorbar": {
             "outlinewidth": 0,
             "ticks": ""
            },
            "type": "contourcarpet"
           }
          ],
          "heatmap": [
           {
            "colorbar": {
             "outlinewidth": 0,
             "ticks": ""
            },
            "colorscale": [
             [
              0,
              "#0d0887"
             ],
             [
              0.1111111111111111,
              "#46039f"
             ],
             [
              0.2222222222222222,
              "#7201a8"
             ],
             [
              0.3333333333333333,
              "#9c179e"
             ],
             [
              0.4444444444444444,
              "#bd3786"
             ],
             [
              0.5555555555555556,
              "#d8576b"
             ],
             [
              0.6666666666666666,
              "#ed7953"
             ],
             [
              0.7777777777777778,
              "#fb9f3a"
             ],
             [
              0.8888888888888888,
              "#fdca26"
             ],
             [
              1,
              "#f0f921"
             ]
            ],
            "type": "heatmap"
           }
          ],
          "heatmapgl": [
           {
            "colorbar": {
             "outlinewidth": 0,
             "ticks": ""
            },
            "colorscale": [
             [
              0,
              "#0d0887"
             ],
             [
              0.1111111111111111,
              "#46039f"
             ],
             [
              0.2222222222222222,
              "#7201a8"
             ],
             [
              0.3333333333333333,
              "#9c179e"
             ],
             [
              0.4444444444444444,
              "#bd3786"
             ],
             [
              0.5555555555555556,
              "#d8576b"
             ],
             [
              0.6666666666666666,
              "#ed7953"
             ],
             [
              0.7777777777777778,
              "#fb9f3a"
             ],
             [
              0.8888888888888888,
              "#fdca26"
             ],
             [
              1,
              "#f0f921"
             ]
            ],
            "type": "heatmapgl"
           }
          ],
          "histogram": [
           {
            "marker": {
             "colorbar": {
              "outlinewidth": 0,
              "ticks": ""
             }
            },
            "type": "histogram"
           }
          ],
          "histogram2d": [
           {
            "colorbar": {
             "outlinewidth": 0,
             "ticks": ""
            },
            "colorscale": [
             [
              0,
              "#0d0887"
             ],
             [
              0.1111111111111111,
              "#46039f"
             ],
             [
              0.2222222222222222,
              "#7201a8"
             ],
             [
              0.3333333333333333,
              "#9c179e"
             ],
             [
              0.4444444444444444,
              "#bd3786"
             ],
             [
              0.5555555555555556,
              "#d8576b"
             ],
             [
              0.6666666666666666,
              "#ed7953"
             ],
             [
              0.7777777777777778,
              "#fb9f3a"
             ],
             [
              0.8888888888888888,
              "#fdca26"
             ],
             [
              1,
              "#f0f921"
             ]
            ],
            "type": "histogram2d"
           }
          ],
          "histogram2dcontour": [
           {
            "colorbar": {
             "outlinewidth": 0,
             "ticks": ""
            },
            "colorscale": [
             [
              0,
              "#0d0887"
             ],
             [
              0.1111111111111111,
              "#46039f"
             ],
             [
              0.2222222222222222,
              "#7201a8"
             ],
             [
              0.3333333333333333,
              "#9c179e"
             ],
             [
              0.4444444444444444,
              "#bd3786"
             ],
             [
              0.5555555555555556,
              "#d8576b"
             ],
             [
              0.6666666666666666,
              "#ed7953"
             ],
             [
              0.7777777777777778,
              "#fb9f3a"
             ],
             [
              0.8888888888888888,
              "#fdca26"
             ],
             [
              1,
              "#f0f921"
             ]
            ],
            "type": "histogram2dcontour"
           }
          ],
          "mesh3d": [
           {
            "colorbar": {
             "outlinewidth": 0,
             "ticks": ""
            },
            "type": "mesh3d"
           }
          ],
          "parcoords": [
           {
            "line": {
             "colorbar": {
              "outlinewidth": 0,
              "ticks": ""
             }
            },
            "type": "parcoords"
           }
          ],
          "pie": [
           {
            "automargin": true,
            "type": "pie"
           }
          ],
          "scatter": [
           {
            "marker": {
             "colorbar": {
              "outlinewidth": 0,
              "ticks": ""
             }
            },
            "type": "scatter"
           }
          ],
          "scatter3d": [
           {
            "line": {
             "colorbar": {
              "outlinewidth": 0,
              "ticks": ""
             }
            },
            "marker": {
             "colorbar": {
              "outlinewidth": 0,
              "ticks": ""
             }
            },
            "type": "scatter3d"
           }
          ],
          "scattercarpet": [
           {
            "marker": {
             "colorbar": {
              "outlinewidth": 0,
              "ticks": ""
             }
            },
            "type": "scattercarpet"
           }
          ],
          "scattergeo": [
           {
            "marker": {
             "colorbar": {
              "outlinewidth": 0,
              "ticks": ""
             }
            },
            "type": "scattergeo"
           }
          ],
          "scattergl": [
           {
            "marker": {
             "colorbar": {
              "outlinewidth": 0,
              "ticks": ""
             }
            },
            "type": "scattergl"
           }
          ],
          "scattermapbox": [
           {
            "marker": {
             "colorbar": {
              "outlinewidth": 0,
              "ticks": ""
             }
            },
            "type": "scattermapbox"
           }
          ],
          "scatterpolar": [
           {
            "marker": {
             "colorbar": {
              "outlinewidth": 0,
              "ticks": ""
             }
            },
            "type": "scatterpolar"
           }
          ],
          "scatterpolargl": [
           {
            "marker": {
             "colorbar": {
              "outlinewidth": 0,
              "ticks": ""
             }
            },
            "type": "scatterpolargl"
           }
          ],
          "scatterternary": [
           {
            "marker": {
             "colorbar": {
              "outlinewidth": 0,
              "ticks": ""
             }
            },
            "type": "scatterternary"
           }
          ],
          "surface": [
           {
            "colorbar": {
             "outlinewidth": 0,
             "ticks": ""
            },
            "colorscale": [
             [
              0,
              "#0d0887"
             ],
             [
              0.1111111111111111,
              "#46039f"
             ],
             [
              0.2222222222222222,
              "#7201a8"
             ],
             [
              0.3333333333333333,
              "#9c179e"
             ],
             [
              0.4444444444444444,
              "#bd3786"
             ],
             [
              0.5555555555555556,
              "#d8576b"
             ],
             [
              0.6666666666666666,
              "#ed7953"
             ],
             [
              0.7777777777777778,
              "#fb9f3a"
             ],
             [
              0.8888888888888888,
              "#fdca26"
             ],
             [
              1,
              "#f0f921"
             ]
            ],
            "type": "surface"
           }
          ],
          "table": [
           {
            "cells": {
             "fill": {
              "color": "#EBF0F8"
             },
             "line": {
              "color": "white"
             }
            },
            "header": {
             "fill": {
              "color": "#C8D4E3"
             },
             "line": {
              "color": "white"
             }
            },
            "type": "table"
           }
          ]
         },
         "layout": {
          "annotationdefaults": {
           "arrowcolor": "#2a3f5f",
           "arrowhead": 0,
           "arrowwidth": 1
          },
          "coloraxis": {
           "colorbar": {
            "outlinewidth": 0,
            "ticks": ""
           }
          },
          "colorscale": {
           "diverging": [
            [
             0,
             "#8e0152"
            ],
            [
             0.1,
             "#c51b7d"
            ],
            [
             0.2,
             "#de77ae"
            ],
            [
             0.3,
             "#f1b6da"
            ],
            [
             0.4,
             "#fde0ef"
            ],
            [
             0.5,
             "#f7f7f7"
            ],
            [
             0.6,
             "#e6f5d0"
            ],
            [
             0.7,
             "#b8e186"
            ],
            [
             0.8,
             "#7fbc41"
            ],
            [
             0.9,
             "#4d9221"
            ],
            [
             1,
             "#276419"
            ]
           ],
           "sequential": [
            [
             0,
             "#0d0887"
            ],
            [
             0.1111111111111111,
             "#46039f"
            ],
            [
             0.2222222222222222,
             "#7201a8"
            ],
            [
             0.3333333333333333,
             "#9c179e"
            ],
            [
             0.4444444444444444,
             "#bd3786"
            ],
            [
             0.5555555555555556,
             "#d8576b"
            ],
            [
             0.6666666666666666,
             "#ed7953"
            ],
            [
             0.7777777777777778,
             "#fb9f3a"
            ],
            [
             0.8888888888888888,
             "#fdca26"
            ],
            [
             1,
             "#f0f921"
            ]
           ],
           "sequentialminus": [
            [
             0,
             "#0d0887"
            ],
            [
             0.1111111111111111,
             "#46039f"
            ],
            [
             0.2222222222222222,
             "#7201a8"
            ],
            [
             0.3333333333333333,
             "#9c179e"
            ],
            [
             0.4444444444444444,
             "#bd3786"
            ],
            [
             0.5555555555555556,
             "#d8576b"
            ],
            [
             0.6666666666666666,
             "#ed7953"
            ],
            [
             0.7777777777777778,
             "#fb9f3a"
            ],
            [
             0.8888888888888888,
             "#fdca26"
            ],
            [
             1,
             "#f0f921"
            ]
           ]
          },
          "colorway": [
           "#636efa",
           "#EF553B",
           "#00cc96",
           "#ab63fa",
           "#FFA15A",
           "#19d3f3",
           "#FF6692",
           "#B6E880",
           "#FF97FF",
           "#FECB52"
          ],
          "font": {
           "color": "#2a3f5f"
          },
          "geo": {
           "bgcolor": "white",
           "lakecolor": "white",
           "landcolor": "#E5ECF6",
           "showlakes": true,
           "showland": true,
           "subunitcolor": "white"
          },
          "hoverlabel": {
           "align": "left"
          },
          "hovermode": "closest",
          "mapbox": {
           "style": "light"
          },
          "paper_bgcolor": "white",
          "plot_bgcolor": "#E5ECF6",
          "polar": {
           "angularaxis": {
            "gridcolor": "white",
            "linecolor": "white",
            "ticks": ""
           },
           "bgcolor": "#E5ECF6",
           "radialaxis": {
            "gridcolor": "white",
            "linecolor": "white",
            "ticks": ""
           }
          },
          "scene": {
           "xaxis": {
            "backgroundcolor": "#E5ECF6",
            "gridcolor": "white",
            "gridwidth": 2,
            "linecolor": "white",
            "showbackground": true,
            "ticks": "",
            "zerolinecolor": "white"
           },
           "yaxis": {
            "backgroundcolor": "#E5ECF6",
            "gridcolor": "white",
            "gridwidth": 2,
            "linecolor": "white",
            "showbackground": true,
            "ticks": "",
            "zerolinecolor": "white"
           },
           "zaxis": {
            "backgroundcolor": "#E5ECF6",
            "gridcolor": "white",
            "gridwidth": 2,
            "linecolor": "white",
            "showbackground": true,
            "ticks": "",
            "zerolinecolor": "white"
           }
          },
          "shapedefaults": {
           "line": {
            "color": "#2a3f5f"
           }
          },
          "ternary": {
           "aaxis": {
            "gridcolor": "white",
            "linecolor": "white",
            "ticks": ""
           },
           "baxis": {
            "gridcolor": "white",
            "linecolor": "white",
            "ticks": ""
           },
           "bgcolor": "#E5ECF6",
           "caxis": {
            "gridcolor": "white",
            "linecolor": "white",
            "ticks": ""
           }
          },
          "title": {
           "x": 0.05
          },
          "xaxis": {
           "automargin": true,
           "gridcolor": "white",
           "linecolor": "white",
           "ticks": "",
           "title": {
            "standoff": 15
           },
           "zerolinecolor": "white",
           "zerolinewidth": 2
          },
          "yaxis": {
           "automargin": true,
           "gridcolor": "white",
           "linecolor": "white",
           "ticks": "",
           "title": {
            "standoff": 15
           },
           "zerolinecolor": "white",
           "zerolinewidth": 2
          }
         }
        },
        "xaxis": {
         "anchor": "y",
         "domain": [
          0,
          1
         ],
         "title": {
          "text": "Training Samples"
         }
        },
        "yaxis": {
         "anchor": "x",
         "domain": [
          0,
          1
         ],
         "title": {
          "text": "Training Time(s)"
         }
        }
       }
      }
     },
     "metadata": {}
    },
    {
     "output_type": "display_data",
     "data": {
      "application/vnd.plotly.v1+json": {
       "config": {
        "plotlyServerURL": "https://plot.ly"
       },
       "data": [
        {
         "hovertemplate": "<b>%{hovertext}</b><br><br>Model=MCD<br>Training Samples=%{x}<br>Size(KB)=%{y}<extra></extra>",
         "hovertext": [
          "MCD",
          "MCD",
          "MCD",
          "MCD",
          "MCD"
         ],
         "legendgroup": "MCD",
         "line": {
          "color": "#636EFA",
          "dash": "solid",
          "shape": "spline"
         },
         "mode": "lines",
         "name": "MCD",
         "orientation": "v",
         "showlegend": true,
         "type": "scatter",
         "x": [
          1000,
          4000,
          8000,
          12000,
          16000
         ],
         "xaxis": "x",
         "y": [
          18,
          59.96,
          115.96,
          171.96,
          227.96
         ],
         "yaxis": "y"
        },
        {
         "hovertemplate": "<b>%{hovertext}</b><br><br>Model=PCA <br>Training Samples=%{x}<br>Size(KB)=%{y}<extra></extra>",
         "hovertext": [
          "PCA ",
          "PCA ",
          "PCA ",
          "PCA ",
          "PCA "
         ],
         "legendgroup": "PCA ",
         "line": {
          "color": "#DC3912",
          "dash": "solid",
          "shape": "spline"
         },
         "mode": "lines",
         "name": "PCA ",
         "orientation": "v",
         "showlegend": true,
         "type": "scatter",
         "x": [
          1000,
          4000,
          8000,
          12000,
          16000
         ],
         "xaxis": "x",
         "y": [
          16.54,
          52.54,
          100.54,
          148.54,
          196.54
         ],
         "yaxis": "y"
        },
        {
         "hovertemplate": "<b>%{hovertext}</b><br><br>Model=OCSVM <br>Training Samples=%{x}<br>Size(KB)=%{y}<extra></extra>",
         "hovertext": [
          "OCSVM ",
          "OCSVM ",
          "OCSVM ",
          "OCSVM ",
          "OCSVM "
         ],
         "legendgroup": "OCSVM ",
         "line": {
          "color": "#00CC96",
          "dash": "solid",
          "shape": "spline"
         },
         "mode": "lines",
         "name": "OCSVM ",
         "orientation": "v",
         "showlegend": true,
         "type": "scatter",
         "x": [
          1000,
          4000,
          8000,
          12000,
          16000
         ],
         "xaxis": "x",
         "y": [
          27.63,
          105.66,
          209.63,
          313.63,
          417.61
         ],
         "yaxis": "y"
        },
        {
         "hovertemplate": "<b>%{hovertext}</b><br><br>Model=LMDD<br>Training Samples=%{x}<br>Size(KB)=%{y}<extra></extra>",
         "hovertext": [
          "LMDD",
          "LMDD",
          "LMDD",
          "LMDD",
          "LMDD"
         ],
         "legendgroup": "LMDD",
         "line": {
          "color": "#AB63FA",
          "dash": "solid",
          "shape": "spline"
         },
         "mode": "lines",
         "name": "LMDD",
         "orientation": "v",
         "showlegend": true,
         "type": "scatter",
         "x": [
          1000,
          4000,
          8000,
          12000,
          16000
         ],
         "xaxis": "x",
         "y": [
          15.82,
          51.82,
          99.82,
          147.82,
          195.82
         ],
         "yaxis": "y"
        },
        {
         "hovertemplate": "<b>%{hovertext}</b><br><br>Model=LOF <br>Training Samples=%{x}<br>Size(KB)=%{y}<extra></extra>",
         "hovertext": [
          "LOF ",
          "LOF ",
          "LOF ",
          "LOF ",
          "LOF "
         ],
         "legendgroup": "LOF ",
         "line": {
          "color": "#FFA15A",
          "dash": "solid",
          "shape": "spline"
         },
         "mode": "lines",
         "name": "LOF ",
         "orientation": "v",
         "showlegend": true,
         "type": "scatter",
         "x": [
          1000,
          4000,
          8000,
          12000,
          16000
         ],
         "xaxis": "x",
         "y": [
          213.35,
          848.1,
          1694.45,
          2526.45,
          3387.12
         ],
         "yaxis": "y"
        },
        {
         "hovertemplate": "<b>%{hovertext}</b><br><br>Model=COF<br>Training Samples=%{x}<br>Size(KB)=%{y}<extra></extra>",
         "hovertext": [
          "COF",
          "COF",
          "COF",
          "COF"
         ],
         "legendgroup": "COF",
         "line": {
          "color": "#19D3F3",
          "dash": "solid",
          "shape": "spline"
         },
         "mode": "lines",
         "name": "COF",
         "orientation": "v",
         "showlegend": true,
         "type": "scatter",
         "x": [
          1000,
          4000,
          8000,
          12000
         ],
         "xaxis": "x",
         "y": [
          12.55,
          48.55,
          96.55,
          144.55
         ],
         "yaxis": "y"
        },
        {
         "hovertemplate": "<b>%{hovertext}</b><br><br>Model=CBLOF<br>Training Samples=%{x}<br>Size(KB)=%{y}<extra></extra>",
         "hovertext": [
          "CBLOF",
          "CBLOF",
          "CBLOF",
          "CBLOF",
          "CBLOF"
         ],
         "legendgroup": "CBLOF",
         "line": {
          "color": "#FF6692",
          "dash": "solid",
          "shape": "spline"
         },
         "mode": "lines",
         "name": "CBLOF",
         "orientation": "v",
         "showlegend": true,
         "type": "scatter",
         "x": [
          1000,
          4000,
          8000,
          12000,
          16000
         ],
         "xaxis": "x",
         "y": [
          20.86,
          68.88,
          132.86,
          196.86,
          260.88
         ],
         "yaxis": "y"
        },
        {
         "hovertemplate": "<b>%{hovertext}</b><br><br>Model=HBOS<br>Training Samples=%{x}<br>Size(KB)=%{y}<extra></extra>",
         "hovertext": [
          "HBOS",
          "HBOS",
          "HBOS",
          "HBOS",
          "HBOS"
         ],
         "legendgroup": "HBOS",
         "line": {
          "color": "#B6E880",
          "dash": "solid",
          "shape": "spline"
         },
         "mode": "lines",
         "name": "HBOS",
         "orientation": "v",
         "showlegend": true,
         "type": "scatter",
         "x": [
          1000,
          4000,
          8000,
          12000,
          16000
         ],
         "xaxis": "x",
         "y": [
          13.01,
          49.01,
          97.01,
          145.01,
          193.01
         ],
         "yaxis": "y"
        },
        {
         "hovertemplate": "<b>%{hovertext}</b><br><br>Model=KNN<br>Training Samples=%{x}<br>Size(KB)=%{y}<extra></extra>",
         "hovertext": [
          "KNN",
          "KNN",
          "KNN",
          "KNN",
          "KNN"
         ],
         "legendgroup": "KNN",
         "line": {
          "color": "#FF97FF",
          "dash": "solid",
          "shape": "spline"
         },
         "mode": "lines",
         "name": "KNN",
         "orientation": "v",
         "showlegend": true,
         "type": "scatter",
         "x": [
          1000,
          4000,
          8000,
          12000,
          16000
         ],
         "xaxis": "x",
         "y": [
          37.17,
          143.92,
          286.27,
          414.27,
          570.94
         ],
         "yaxis": "y"
        },
        {
         "hovertemplate": "<b>%{hovertext}</b><br><br>Model=ABOD<br>Training Samples=%{x}<br>Size(KB)=%{y}<extra></extra>",
         "hovertext": [
          "ABOD",
          "ABOD",
          "ABOD",
          "ABOD",
          "ABOD"
         ],
         "legendgroup": "ABOD",
         "line": {
          "color": "#16FF32",
          "dash": "solid",
          "shape": "spline"
         },
         "mode": "lines",
         "name": "ABOD",
         "orientation": "v",
         "showlegend": true,
         "type": "scatter",
         "x": [
          1000,
          4000,
          8000,
          12000,
          16000
         ],
         "xaxis": "x",
         "y": [
          34.99,
          136.37,
          271.54,
          413.88,
          541.88
         ],
         "yaxis": "y"
        },
        {
         "hovertemplate": "<b>%{hovertext}</b><br><br>Model=IForest<br>Training Samples=%{x}<br>Size(KB)=%{y}<extra></extra>",
         "hovertext": [
          "IForest",
          "IForest",
          "IForest",
          "IForest",
          "IForest"
         ],
         "legendgroup": "IForest",
         "line": {
          "color": "rgb(102,102,102)",
          "dash": "solid",
          "shape": "spline"
         },
         "mode": "lines",
         "name": "IForest",
         "orientation": "v",
         "showlegend": true,
         "type": "scatter",
         "x": [
          1000,
          4000,
          8000,
          12000,
          16000
         ],
         "xaxis": "x",
         "y": [
          813.67,
          837.24,
          942.48,
          899.53,
          1005.43
         ],
         "yaxis": "y"
        },
        {
         "hovertemplate": "<b>%{hovertext}</b><br><br>Model=FB <br>Training Samples=%{x}<br>Size(KB)=%{y}<extra></extra>",
         "hovertext": [
          "FB ",
          "FB ",
          "FB ",
          "FB ",
          "FB "
         ],
         "legendgroup": "FB ",
         "line": {
          "color": "#FBE426",
          "dash": "solid",
          "shape": "spline"
         },
         "mode": "lines",
         "name": "FB ",
         "orientation": "v",
         "showlegend": true,
         "type": "scatter",
         "x": [
          1000,
          4000,
          8000,
          12000,
          16000
         ],
         "xaxis": "x",
         "y": [
          2127.35,
          8665.66,
          17516.84,
          26437.08,
          34618.39
         ],
         "yaxis": "y"
        }
       ],
       "layout": {
        "legend": {
         "title": {
          "text": "Model"
         },
         "tracegroupgap": 0
        },
        "margin": {
         "t": 60
        },
        "template": {
         "data": {
          "bar": [
           {
            "error_x": {
             "color": "#2a3f5f"
            },
            "error_y": {
             "color": "#2a3f5f"
            },
            "marker": {
             "line": {
              "color": "#E5ECF6",
              "width": 0.5
             }
            },
            "type": "bar"
           }
          ],
          "barpolar": [
           {
            "marker": {
             "line": {
              "color": "#E5ECF6",
              "width": 0.5
             }
            },
            "type": "barpolar"
           }
          ],
          "carpet": [
           {
            "aaxis": {
             "endlinecolor": "#2a3f5f",
             "gridcolor": "white",
             "linecolor": "white",
             "minorgridcolor": "white",
             "startlinecolor": "#2a3f5f"
            },
            "baxis": {
             "endlinecolor": "#2a3f5f",
             "gridcolor": "white",
             "linecolor": "white",
             "minorgridcolor": "white",
             "startlinecolor": "#2a3f5f"
            },
            "type": "carpet"
           }
          ],
          "choropleth": [
           {
            "colorbar": {
             "outlinewidth": 0,
             "ticks": ""
            },
            "type": "choropleth"
           }
          ],
          "contour": [
           {
            "colorbar": {
             "outlinewidth": 0,
             "ticks": ""
            },
            "colorscale": [
             [
              0,
              "#0d0887"
             ],
             [
              0.1111111111111111,
              "#46039f"
             ],
             [
              0.2222222222222222,
              "#7201a8"
             ],
             [
              0.3333333333333333,
              "#9c179e"
             ],
             [
              0.4444444444444444,
              "#bd3786"
             ],
             [
              0.5555555555555556,
              "#d8576b"
             ],
             [
              0.6666666666666666,
              "#ed7953"
             ],
             [
              0.7777777777777778,
              "#fb9f3a"
             ],
             [
              0.8888888888888888,
              "#fdca26"
             ],
             [
              1,
              "#f0f921"
             ]
            ],
            "type": "contour"
           }
          ],
          "contourcarpet": [
           {
            "colorbar": {
             "outlinewidth": 0,
             "ticks": ""
            },
            "type": "contourcarpet"
           }
          ],
          "heatmap": [
           {
            "colorbar": {
             "outlinewidth": 0,
             "ticks": ""
            },
            "colorscale": [
             [
              0,
              "#0d0887"
             ],
             [
              0.1111111111111111,
              "#46039f"
             ],
             [
              0.2222222222222222,
              "#7201a8"
             ],
             [
              0.3333333333333333,
              "#9c179e"
             ],
             [
              0.4444444444444444,
              "#bd3786"
             ],
             [
              0.5555555555555556,
              "#d8576b"
             ],
             [
              0.6666666666666666,
              "#ed7953"
             ],
             [
              0.7777777777777778,
              "#fb9f3a"
             ],
             [
              0.8888888888888888,
              "#fdca26"
             ],
             [
              1,
              "#f0f921"
             ]
            ],
            "type": "heatmap"
           }
          ],
          "heatmapgl": [
           {
            "colorbar": {
             "outlinewidth": 0,
             "ticks": ""
            },
            "colorscale": [
             [
              0,
              "#0d0887"
             ],
             [
              0.1111111111111111,
              "#46039f"
             ],
             [
              0.2222222222222222,
              "#7201a8"
             ],
             [
              0.3333333333333333,
              "#9c179e"
             ],
             [
              0.4444444444444444,
              "#bd3786"
             ],
             [
              0.5555555555555556,
              "#d8576b"
             ],
             [
              0.6666666666666666,
              "#ed7953"
             ],
             [
              0.7777777777777778,
              "#fb9f3a"
             ],
             [
              0.8888888888888888,
              "#fdca26"
             ],
             [
              1,
              "#f0f921"
             ]
            ],
            "type": "heatmapgl"
           }
          ],
          "histogram": [
           {
            "marker": {
             "colorbar": {
              "outlinewidth": 0,
              "ticks": ""
             }
            },
            "type": "histogram"
           }
          ],
          "histogram2d": [
           {
            "colorbar": {
             "outlinewidth": 0,
             "ticks": ""
            },
            "colorscale": [
             [
              0,
              "#0d0887"
             ],
             [
              0.1111111111111111,
              "#46039f"
             ],
             [
              0.2222222222222222,
              "#7201a8"
             ],
             [
              0.3333333333333333,
              "#9c179e"
             ],
             [
              0.4444444444444444,
              "#bd3786"
             ],
             [
              0.5555555555555556,
              "#d8576b"
             ],
             [
              0.6666666666666666,
              "#ed7953"
             ],
             [
              0.7777777777777778,
              "#fb9f3a"
             ],
             [
              0.8888888888888888,
              "#fdca26"
             ],
             [
              1,
              "#f0f921"
             ]
            ],
            "type": "histogram2d"
           }
          ],
          "histogram2dcontour": [
           {
            "colorbar": {
             "outlinewidth": 0,
             "ticks": ""
            },
            "colorscale": [
             [
              0,
              "#0d0887"
             ],
             [
              0.1111111111111111,
              "#46039f"
             ],
             [
              0.2222222222222222,
              "#7201a8"
             ],
             [
              0.3333333333333333,
              "#9c179e"
             ],
             [
              0.4444444444444444,
              "#bd3786"
             ],
             [
              0.5555555555555556,
              "#d8576b"
             ],
             [
              0.6666666666666666,
              "#ed7953"
             ],
             [
              0.7777777777777778,
              "#fb9f3a"
             ],
             [
              0.8888888888888888,
              "#fdca26"
             ],
             [
              1,
              "#f0f921"
             ]
            ],
            "type": "histogram2dcontour"
           }
          ],
          "mesh3d": [
           {
            "colorbar": {
             "outlinewidth": 0,
             "ticks": ""
            },
            "type": "mesh3d"
           }
          ],
          "parcoords": [
           {
            "line": {
             "colorbar": {
              "outlinewidth": 0,
              "ticks": ""
             }
            },
            "type": "parcoords"
           }
          ],
          "pie": [
           {
            "automargin": true,
            "type": "pie"
           }
          ],
          "scatter": [
           {
            "marker": {
             "colorbar": {
              "outlinewidth": 0,
              "ticks": ""
             }
            },
            "type": "scatter"
           }
          ],
          "scatter3d": [
           {
            "line": {
             "colorbar": {
              "outlinewidth": 0,
              "ticks": ""
             }
            },
            "marker": {
             "colorbar": {
              "outlinewidth": 0,
              "ticks": ""
             }
            },
            "type": "scatter3d"
           }
          ],
          "scattercarpet": [
           {
            "marker": {
             "colorbar": {
              "outlinewidth": 0,
              "ticks": ""
             }
            },
            "type": "scattercarpet"
           }
          ],
          "scattergeo": [
           {
            "marker": {
             "colorbar": {
              "outlinewidth": 0,
              "ticks": ""
             }
            },
            "type": "scattergeo"
           }
          ],
          "scattergl": [
           {
            "marker": {
             "colorbar": {
              "outlinewidth": 0,
              "ticks": ""
             }
            },
            "type": "scattergl"
           }
          ],
          "scattermapbox": [
           {
            "marker": {
             "colorbar": {
              "outlinewidth": 0,
              "ticks": ""
             }
            },
            "type": "scattermapbox"
           }
          ],
          "scatterpolar": [
           {
            "marker": {
             "colorbar": {
              "outlinewidth": 0,
              "ticks": ""
             }
            },
            "type": "scatterpolar"
           }
          ],
          "scatterpolargl": [
           {
            "marker": {
             "colorbar": {
              "outlinewidth": 0,
              "ticks": ""
             }
            },
            "type": "scatterpolargl"
           }
          ],
          "scatterternary": [
           {
            "marker": {
             "colorbar": {
              "outlinewidth": 0,
              "ticks": ""
             }
            },
            "type": "scatterternary"
           }
          ],
          "surface": [
           {
            "colorbar": {
             "outlinewidth": 0,
             "ticks": ""
            },
            "colorscale": [
             [
              0,
              "#0d0887"
             ],
             [
              0.1111111111111111,
              "#46039f"
             ],
             [
              0.2222222222222222,
              "#7201a8"
             ],
             [
              0.3333333333333333,
              "#9c179e"
             ],
             [
              0.4444444444444444,
              "#bd3786"
             ],
             [
              0.5555555555555556,
              "#d8576b"
             ],
             [
              0.6666666666666666,
              "#ed7953"
             ],
             [
              0.7777777777777778,
              "#fb9f3a"
             ],
             [
              0.8888888888888888,
              "#fdca26"
             ],
             [
              1,
              "#f0f921"
             ]
            ],
            "type": "surface"
           }
          ],
          "table": [
           {
            "cells": {
             "fill": {
              "color": "#EBF0F8"
             },
             "line": {
              "color": "white"
             }
            },
            "header": {
             "fill": {
              "color": "#C8D4E3"
             },
             "line": {
              "color": "white"
             }
            },
            "type": "table"
           }
          ]
         },
         "layout": {
          "annotationdefaults": {
           "arrowcolor": "#2a3f5f",
           "arrowhead": 0,
           "arrowwidth": 1
          },
          "coloraxis": {
           "colorbar": {
            "outlinewidth": 0,
            "ticks": ""
           }
          },
          "colorscale": {
           "diverging": [
            [
             0,
             "#8e0152"
            ],
            [
             0.1,
             "#c51b7d"
            ],
            [
             0.2,
             "#de77ae"
            ],
            [
             0.3,
             "#f1b6da"
            ],
            [
             0.4,
             "#fde0ef"
            ],
            [
             0.5,
             "#f7f7f7"
            ],
            [
             0.6,
             "#e6f5d0"
            ],
            [
             0.7,
             "#b8e186"
            ],
            [
             0.8,
             "#7fbc41"
            ],
            [
             0.9,
             "#4d9221"
            ],
            [
             1,
             "#276419"
            ]
           ],
           "sequential": [
            [
             0,
             "#0d0887"
            ],
            [
             0.1111111111111111,
             "#46039f"
            ],
            [
             0.2222222222222222,
             "#7201a8"
            ],
            [
             0.3333333333333333,
             "#9c179e"
            ],
            [
             0.4444444444444444,
             "#bd3786"
            ],
            [
             0.5555555555555556,
             "#d8576b"
            ],
            [
             0.6666666666666666,
             "#ed7953"
            ],
            [
             0.7777777777777778,
             "#fb9f3a"
            ],
            [
             0.8888888888888888,
             "#fdca26"
            ],
            [
             1,
             "#f0f921"
            ]
           ],
           "sequentialminus": [
            [
             0,
             "#0d0887"
            ],
            [
             0.1111111111111111,
             "#46039f"
            ],
            [
             0.2222222222222222,
             "#7201a8"
            ],
            [
             0.3333333333333333,
             "#9c179e"
            ],
            [
             0.4444444444444444,
             "#bd3786"
            ],
            [
             0.5555555555555556,
             "#d8576b"
            ],
            [
             0.6666666666666666,
             "#ed7953"
            ],
            [
             0.7777777777777778,
             "#fb9f3a"
            ],
            [
             0.8888888888888888,
             "#fdca26"
            ],
            [
             1,
             "#f0f921"
            ]
           ]
          },
          "colorway": [
           "#636efa",
           "#EF553B",
           "#00cc96",
           "#ab63fa",
           "#FFA15A",
           "#19d3f3",
           "#FF6692",
           "#B6E880",
           "#FF97FF",
           "#FECB52"
          ],
          "font": {
           "color": "#2a3f5f"
          },
          "geo": {
           "bgcolor": "white",
           "lakecolor": "white",
           "landcolor": "#E5ECF6",
           "showlakes": true,
           "showland": true,
           "subunitcolor": "white"
          },
          "hoverlabel": {
           "align": "left"
          },
          "hovermode": "closest",
          "mapbox": {
           "style": "light"
          },
          "paper_bgcolor": "white",
          "plot_bgcolor": "#E5ECF6",
          "polar": {
           "angularaxis": {
            "gridcolor": "white",
            "linecolor": "white",
            "ticks": ""
           },
           "bgcolor": "#E5ECF6",
           "radialaxis": {
            "gridcolor": "white",
            "linecolor": "white",
            "ticks": ""
           }
          },
          "scene": {
           "xaxis": {
            "backgroundcolor": "#E5ECF6",
            "gridcolor": "white",
            "gridwidth": 2,
            "linecolor": "white",
            "showbackground": true,
            "ticks": "",
            "zerolinecolor": "white"
           },
           "yaxis": {
            "backgroundcolor": "#E5ECF6",
            "gridcolor": "white",
            "gridwidth": 2,
            "linecolor": "white",
            "showbackground": true,
            "ticks": "",
            "zerolinecolor": "white"
           },
           "zaxis": {
            "backgroundcolor": "#E5ECF6",
            "gridcolor": "white",
            "gridwidth": 2,
            "linecolor": "white",
            "showbackground": true,
            "ticks": "",
            "zerolinecolor": "white"
           }
          },
          "shapedefaults": {
           "line": {
            "color": "#2a3f5f"
           }
          },
          "ternary": {
           "aaxis": {
            "gridcolor": "white",
            "linecolor": "white",
            "ticks": ""
           },
           "baxis": {
            "gridcolor": "white",
            "linecolor": "white",
            "ticks": ""
           },
           "bgcolor": "#E5ECF6",
           "caxis": {
            "gridcolor": "white",
            "linecolor": "white",
            "ticks": ""
           }
          },
          "title": {
           "x": 0.05
          },
          "xaxis": {
           "automargin": true,
           "gridcolor": "white",
           "linecolor": "white",
           "ticks": "",
           "title": {
            "standoff": 15
           },
           "zerolinecolor": "white",
           "zerolinewidth": 2
          },
          "yaxis": {
           "automargin": true,
           "gridcolor": "white",
           "linecolor": "white",
           "ticks": "",
           "title": {
            "standoff": 15
           },
           "zerolinecolor": "white",
           "zerolinewidth": 2
          }
         }
        },
        "xaxis": {
         "anchor": "y",
         "domain": [
          0,
          1
         ],
         "title": {
          "text": "Training Samples"
         }
        },
        "yaxis": {
         "anchor": "x",
         "domain": [
          0,
          1
         ],
         "title": {
          "text": "Size(KB)"
         },
         "type": "log"
        }
       }
      }
     },
     "metadata": {}
    },
    {
     "output_type": "display_data",
     "data": {
      "application/vnd.plotly.v1+json": {
       "config": {
        "plotlyServerURL": "https://plot.ly"
       },
       "data": [
        {
         "hovertemplate": "<b>%{hovertext}</b><br><br>Model=PCA <br>Features=%{x}<br>Training Time(s)=%{y}<extra></extra>",
         "hovertext": [
          "PCA ",
          "PCA ",
          "PCA ",
          "PCA ",
          "PCA "
         ],
         "legendgroup": "PCA ",
         "line": {
          "color": "#636EFA",
          "dash": "solid",
          "shape": "spline"
         },
         "mode": "lines",
         "name": "PCA ",
         "orientation": "h",
         "showlegend": true,
         "type": "scatter",
         "x": [
          1,
          4,
          8,
          16,
          32
         ],
         "xaxis": "x",
         "y": [
          "0.01",
          "0.01",
          "0.01",
          "0.04",
          "0.04"
         ],
         "yaxis": "y"
        },
        {
         "hovertemplate": "<b>%{hovertext}</b><br><br>Model=MCD<br>Features=%{x}<br>Training Time(s)=%{y}<extra></extra>",
         "hovertext": [
          "MCD",
          "MCD",
          "MCD",
          "MCD",
          "MCD"
         ],
         "legendgroup": "MCD",
         "line": {
          "color": "#DC3912",
          "dash": "solid",
          "shape": "spline"
         },
         "mode": "lines",
         "name": "MCD",
         "orientation": "h",
         "showlegend": true,
         "type": "scatter",
         "x": [
          1,
          4,
          8,
          16,
          32
         ],
         "xaxis": "x",
         "y": [
          "0.02",
          "2",
          "2.2",
          "2.94",
          "4.51"
         ],
         "yaxis": "y"
        },
        {
         "hovertemplate": "<b>%{hovertext}</b><br><br>Model=OCSVM <br>Features=%{x}<br>Training Time(s)=%{y}<extra></extra>",
         "hovertext": [
          "OCSVM ",
          "OCSVM ",
          "OCSVM ",
          "OCSVM ",
          "OCSVM "
         ],
         "legendgroup": "OCSVM ",
         "line": {
          "color": "#00CC96",
          "dash": "solid",
          "shape": "spline"
         },
         "mode": "lines",
         "name": "OCSVM ",
         "orientation": "h",
         "showlegend": true,
         "type": "scatter",
         "x": [
          1,
          4,
          8,
          16,
          32
         ],
         "xaxis": "x",
         "y": [
          "0.16",
          "0.11",
          "0.11",
          "0.12",
          "0.16"
         ],
         "yaxis": "y"
        },
        {
         "hovertemplate": "<b>%{hovertext}</b><br><br>Model=LMDD<br>Features=%{x}<br>Training Time(s)=%{y}<extra></extra>",
         "hovertext": [
          "LMDD",
          "LMDD",
          "LMDD",
          "LMDD",
          "LMDD"
         ],
         "legendgroup": "LMDD",
         "line": {
          "color": "#AB63FA",
          "dash": "solid",
          "shape": "spline"
         },
         "mode": "lines",
         "name": "LMDD",
         "orientation": "h",
         "showlegend": true,
         "type": "scatter",
         "x": [
          1,
          4,
          8,
          16,
          32
         ],
         "xaxis": "x",
         "y": [
          "3.35",
          "3.97",
          "4.81",
          "6.35",
          "9.99"
         ],
         "yaxis": "y"
        },
        {
         "hovertemplate": "<b>%{hovertext}</b><br><br>Model=LOF <br>Features=%{x}<br>Training Time(s)=%{y}<extra></extra>",
         "hovertext": [
          "LOF ",
          "LOF ",
          "LOF ",
          "LOF ",
          "LOF "
         ],
         "legendgroup": "LOF ",
         "line": {
          "color": "#FFA15A",
          "dash": "solid",
          "shape": "spline"
         },
         "mode": "lines",
         "name": "LOF ",
         "orientation": "h",
         "showlegend": true,
         "type": "scatter",
         "x": [
          1,
          4,
          8,
          16,
          32
         ],
         "xaxis": "x",
         "y": [
          "0.01",
          "0.03",
          "0.07",
          "0.11",
          "0.2"
         ],
         "yaxis": "y"
        },
        {
         "hovertemplate": "<b>%{hovertext}</b><br><br>Model=COF<br>Features=%{x}<br>Training Time(s)=%{y}<extra></extra>",
         "hovertext": [
          "COF",
          "COF",
          "COF",
          "COF",
          "COF"
         ],
         "legendgroup": "COF",
         "line": {
          "color": "#19D3F3",
          "dash": "solid",
          "shape": "spline"
         },
         "mode": "lines",
         "name": "COF",
         "orientation": "h",
         "showlegend": true,
         "type": "scatter",
         "x": [
          1,
          4,
          8,
          16,
          32
         ],
         "xaxis": "x",
         "y": [
          "6.45",
          "6.6",
          "6.68",
          "6.82",
          "7.1"
         ],
         "yaxis": "y"
        },
        {
         "hovertemplate": "<b>%{hovertext}</b><br><br>Model=CBLOF<br>Features=%{x}<br>Training Time(s)=%{y}<extra></extra>",
         "hovertext": [
          "CBLOF",
          "CBLOF",
          "CBLOF",
          "CBLOF",
          "CBLOF"
         ],
         "legendgroup": "CBLOF",
         "line": {
          "color": "#FF6692",
          "dash": "solid",
          "shape": "spline"
         },
         "mode": "lines",
         "name": "CBLOF",
         "orientation": "h",
         "showlegend": true,
         "type": "scatter",
         "x": [
          1,
          4,
          8,
          16,
          32
         ],
         "xaxis": "x",
         "y": [
          "0.35",
          "0.56",
          "0.55",
          "0.56",
          "0.64"
         ],
         "yaxis": "y"
        },
        {
         "hovertemplate": "<b>%{hovertext}</b><br><br>Model=HBOS<br>Features=%{x}<br>Training Time(s)=%{y}<extra></extra>",
         "hovertext": [
          "HBOS",
          "HBOS",
          "HBOS",
          "HBOS",
          "HBOS"
         ],
         "legendgroup": "HBOS",
         "line": {
          "color": "#B6E880",
          "dash": "solid",
          "shape": "spline"
         },
         "mode": "lines",
         "name": "HBOS",
         "orientation": "h",
         "showlegend": true,
         "type": "scatter",
         "x": [
          1,
          4,
          8,
          16,
          32
         ],
         "xaxis": "x",
         "y": [
          "0",
          "0.01",
          "0.01",
          "0.02",
          "0.03"
         ],
         "yaxis": "y"
        },
        {
         "hovertemplate": "<b>%{hovertext}</b><br><br>Model=KNN<br>Features=%{x}<br>Training Time(s)=%{y}<extra></extra>",
         "hovertext": [
          "KNN",
          "KNN",
          "KNN",
          "KNN",
          "KNN"
         ],
         "legendgroup": "KNN",
         "line": {
          "color": "#FF97FF",
          "dash": "solid",
          "shape": "spline"
         },
         "mode": "lines",
         "name": "KNN",
         "orientation": "h",
         "showlegend": true,
         "type": "scatter",
         "x": [
          1,
          4,
          8,
          16,
          32
         ],
         "xaxis": "x",
         "y": [
          "0.01",
          "0.02",
          "0.05",
          "0.11",
          "0.19"
         ],
         "yaxis": "y"
        },
        {
         "hovertemplate": "<b>%{hovertext}</b><br><br>Model=ABOD<br>Features=%{x}<br>Training Time(s)=%{y}<extra></extra>",
         "hovertext": [
          "ABOD",
          "ABOD",
          "ABOD",
          "ABOD",
          "ABOD"
         ],
         "legendgroup": "ABOD",
         "line": {
          "color": "#16FF32",
          "dash": "solid",
          "shape": "spline"
         },
         "mode": "lines",
         "name": "ABOD",
         "orientation": "h",
         "showlegend": true,
         "type": "scatter",
         "x": [
          1,
          4,
          8,
          16,
          32
         ],
         "xaxis": "x",
         "y": [
          "0.78",
          "0.8",
          "0.84",
          "0.9",
          "1"
         ],
         "yaxis": "y"
        },
        {
         "hovertemplate": "<b>%{hovertext}</b><br><br>Model=IForest<br>Features=%{x}<br>Training Time(s)=%{y}<extra></extra>",
         "hovertext": [
          "IForest",
          "IForest",
          "IForest",
          "IForest",
          "IForest"
         ],
         "legendgroup": "IForest",
         "line": {
          "color": "rgb(102,102,102)",
          "dash": "solid",
          "shape": "spline"
         },
         "mode": "lines",
         "name": "IForest",
         "orientation": "h",
         "showlegend": true,
         "type": "scatter",
         "x": [
          1,
          4,
          8,
          16,
          32
         ],
         "xaxis": "x",
         "y": [
          "0.75",
          "0.71",
          "0.79",
          "0.8",
          "0.89"
         ],
         "yaxis": "y"
        },
        {
         "hovertemplate": "<b>%{hovertext}</b><br><br>Model=FB <br>Features=%{x}<br>Training Time(s)=%{y}<extra></extra>",
         "hovertext": [
          "FB ",
          "FB ",
          "FB ",
          "FB ",
          "FB "
         ],
         "legendgroup": "FB ",
         "line": {
          "color": "#FBE426",
          "dash": "solid",
          "shape": "spline"
         },
         "mode": "lines",
         "name": "FB ",
         "orientation": "h",
         "showlegend": true,
         "type": "scatter",
         "x": [
          1,
          4,
          8,
          16,
          32
         ],
         "xaxis": "x",
         "y": [
          "-",
          "0.22",
          "0.47",
          "1.09",
          "1.5"
         ],
         "yaxis": "y"
        }
       ],
       "layout": {
        "legend": {
         "title": {
          "text": "Model"
         },
         "tracegroupgap": 0
        },
        "margin": {
         "t": 60
        },
        "template": {
         "data": {
          "bar": [
           {
            "error_x": {
             "color": "#2a3f5f"
            },
            "error_y": {
             "color": "#2a3f5f"
            },
            "marker": {
             "line": {
              "color": "#E5ECF6",
              "width": 0.5
             }
            },
            "type": "bar"
           }
          ],
          "barpolar": [
           {
            "marker": {
             "line": {
              "color": "#E5ECF6",
              "width": 0.5
             }
            },
            "type": "barpolar"
           }
          ],
          "carpet": [
           {
            "aaxis": {
             "endlinecolor": "#2a3f5f",
             "gridcolor": "white",
             "linecolor": "white",
             "minorgridcolor": "white",
             "startlinecolor": "#2a3f5f"
            },
            "baxis": {
             "endlinecolor": "#2a3f5f",
             "gridcolor": "white",
             "linecolor": "white",
             "minorgridcolor": "white",
             "startlinecolor": "#2a3f5f"
            },
            "type": "carpet"
           }
          ],
          "choropleth": [
           {
            "colorbar": {
             "outlinewidth": 0,
             "ticks": ""
            },
            "type": "choropleth"
           }
          ],
          "contour": [
           {
            "colorbar": {
             "outlinewidth": 0,
             "ticks": ""
            },
            "colorscale": [
             [
              0,
              "#0d0887"
             ],
             [
              0.1111111111111111,
              "#46039f"
             ],
             [
              0.2222222222222222,
              "#7201a8"
             ],
             [
              0.3333333333333333,
              "#9c179e"
             ],
             [
              0.4444444444444444,
              "#bd3786"
             ],
             [
              0.5555555555555556,
              "#d8576b"
             ],
             [
              0.6666666666666666,
              "#ed7953"
             ],
             [
              0.7777777777777778,
              "#fb9f3a"
             ],
             [
              0.8888888888888888,
              "#fdca26"
             ],
             [
              1,
              "#f0f921"
             ]
            ],
            "type": "contour"
           }
          ],
          "contourcarpet": [
           {
            "colorbar": {
             "outlinewidth": 0,
             "ticks": ""
            },
            "type": "contourcarpet"
           }
          ],
          "heatmap": [
           {
            "colorbar": {
             "outlinewidth": 0,
             "ticks": ""
            },
            "colorscale": [
             [
              0,
              "#0d0887"
             ],
             [
              0.1111111111111111,
              "#46039f"
             ],
             [
              0.2222222222222222,
              "#7201a8"
             ],
             [
              0.3333333333333333,
              "#9c179e"
             ],
             [
              0.4444444444444444,
              "#bd3786"
             ],
             [
              0.5555555555555556,
              "#d8576b"
             ],
             [
              0.6666666666666666,
              "#ed7953"
             ],
             [
              0.7777777777777778,
              "#fb9f3a"
             ],
             [
              0.8888888888888888,
              "#fdca26"
             ],
             [
              1,
              "#f0f921"
             ]
            ],
            "type": "heatmap"
           }
          ],
          "heatmapgl": [
           {
            "colorbar": {
             "outlinewidth": 0,
             "ticks": ""
            },
            "colorscale": [
             [
              0,
              "#0d0887"
             ],
             [
              0.1111111111111111,
              "#46039f"
             ],
             [
              0.2222222222222222,
              "#7201a8"
             ],
             [
              0.3333333333333333,
              "#9c179e"
             ],
             [
              0.4444444444444444,
              "#bd3786"
             ],
             [
              0.5555555555555556,
              "#d8576b"
             ],
             [
              0.6666666666666666,
              "#ed7953"
             ],
             [
              0.7777777777777778,
              "#fb9f3a"
             ],
             [
              0.8888888888888888,
              "#fdca26"
             ],
             [
              1,
              "#f0f921"
             ]
            ],
            "type": "heatmapgl"
           }
          ],
          "histogram": [
           {
            "marker": {
             "colorbar": {
              "outlinewidth": 0,
              "ticks": ""
             }
            },
            "type": "histogram"
           }
          ],
          "histogram2d": [
           {
            "colorbar": {
             "outlinewidth": 0,
             "ticks": ""
            },
            "colorscale": [
             [
              0,
              "#0d0887"
             ],
             [
              0.1111111111111111,
              "#46039f"
             ],
             [
              0.2222222222222222,
              "#7201a8"
             ],
             [
              0.3333333333333333,
              "#9c179e"
             ],
             [
              0.4444444444444444,
              "#bd3786"
             ],
             [
              0.5555555555555556,
              "#d8576b"
             ],
             [
              0.6666666666666666,
              "#ed7953"
             ],
             [
              0.7777777777777778,
              "#fb9f3a"
             ],
             [
              0.8888888888888888,
              "#fdca26"
             ],
             [
              1,
              "#f0f921"
             ]
            ],
            "type": "histogram2d"
           }
          ],
          "histogram2dcontour": [
           {
            "colorbar": {
             "outlinewidth": 0,
             "ticks": ""
            },
            "colorscale": [
             [
              0,
              "#0d0887"
             ],
             [
              0.1111111111111111,
              "#46039f"
             ],
             [
              0.2222222222222222,
              "#7201a8"
             ],
             [
              0.3333333333333333,
              "#9c179e"
             ],
             [
              0.4444444444444444,
              "#bd3786"
             ],
             [
              0.5555555555555556,
              "#d8576b"
             ],
             [
              0.6666666666666666,
              "#ed7953"
             ],
             [
              0.7777777777777778,
              "#fb9f3a"
             ],
             [
              0.8888888888888888,
              "#fdca26"
             ],
             [
              1,
              "#f0f921"
             ]
            ],
            "type": "histogram2dcontour"
           }
          ],
          "mesh3d": [
           {
            "colorbar": {
             "outlinewidth": 0,
             "ticks": ""
            },
            "type": "mesh3d"
           }
          ],
          "parcoords": [
           {
            "line": {
             "colorbar": {
              "outlinewidth": 0,
              "ticks": ""
             }
            },
            "type": "parcoords"
           }
          ],
          "pie": [
           {
            "automargin": true,
            "type": "pie"
           }
          ],
          "scatter": [
           {
            "marker": {
             "colorbar": {
              "outlinewidth": 0,
              "ticks": ""
             }
            },
            "type": "scatter"
           }
          ],
          "scatter3d": [
           {
            "line": {
             "colorbar": {
              "outlinewidth": 0,
              "ticks": ""
             }
            },
            "marker": {
             "colorbar": {
              "outlinewidth": 0,
              "ticks": ""
             }
            },
            "type": "scatter3d"
           }
          ],
          "scattercarpet": [
           {
            "marker": {
             "colorbar": {
              "outlinewidth": 0,
              "ticks": ""
             }
            },
            "type": "scattercarpet"
           }
          ],
          "scattergeo": [
           {
            "marker": {
             "colorbar": {
              "outlinewidth": 0,
              "ticks": ""
             }
            },
            "type": "scattergeo"
           }
          ],
          "scattergl": [
           {
            "marker": {
             "colorbar": {
              "outlinewidth": 0,
              "ticks": ""
             }
            },
            "type": "scattergl"
           }
          ],
          "scattermapbox": [
           {
            "marker": {
             "colorbar": {
              "outlinewidth": 0,
              "ticks": ""
             }
            },
            "type": "scattermapbox"
           }
          ],
          "scatterpolar": [
           {
            "marker": {
             "colorbar": {
              "outlinewidth": 0,
              "ticks": ""
             }
            },
            "type": "scatterpolar"
           }
          ],
          "scatterpolargl": [
           {
            "marker": {
             "colorbar": {
              "outlinewidth": 0,
              "ticks": ""
             }
            },
            "type": "scatterpolargl"
           }
          ],
          "scatterternary": [
           {
            "marker": {
             "colorbar": {
              "outlinewidth": 0,
              "ticks": ""
             }
            },
            "type": "scatterternary"
           }
          ],
          "surface": [
           {
            "colorbar": {
             "outlinewidth": 0,
             "ticks": ""
            },
            "colorscale": [
             [
              0,
              "#0d0887"
             ],
             [
              0.1111111111111111,
              "#46039f"
             ],
             [
              0.2222222222222222,
              "#7201a8"
             ],
             [
              0.3333333333333333,
              "#9c179e"
             ],
             [
              0.4444444444444444,
              "#bd3786"
             ],
             [
              0.5555555555555556,
              "#d8576b"
             ],
             [
              0.6666666666666666,
              "#ed7953"
             ],
             [
              0.7777777777777778,
              "#fb9f3a"
             ],
             [
              0.8888888888888888,
              "#fdca26"
             ],
             [
              1,
              "#f0f921"
             ]
            ],
            "type": "surface"
           }
          ],
          "table": [
           {
            "cells": {
             "fill": {
              "color": "#EBF0F8"
             },
             "line": {
              "color": "white"
             }
            },
            "header": {
             "fill": {
              "color": "#C8D4E3"
             },
             "line": {
              "color": "white"
             }
            },
            "type": "table"
           }
          ]
         },
         "layout": {
          "annotationdefaults": {
           "arrowcolor": "#2a3f5f",
           "arrowhead": 0,
           "arrowwidth": 1
          },
          "coloraxis": {
           "colorbar": {
            "outlinewidth": 0,
            "ticks": ""
           }
          },
          "colorscale": {
           "diverging": [
            [
             0,
             "#8e0152"
            ],
            [
             0.1,
             "#c51b7d"
            ],
            [
             0.2,
             "#de77ae"
            ],
            [
             0.3,
             "#f1b6da"
            ],
            [
             0.4,
             "#fde0ef"
            ],
            [
             0.5,
             "#f7f7f7"
            ],
            [
             0.6,
             "#e6f5d0"
            ],
            [
             0.7,
             "#b8e186"
            ],
            [
             0.8,
             "#7fbc41"
            ],
            [
             0.9,
             "#4d9221"
            ],
            [
             1,
             "#276419"
            ]
           ],
           "sequential": [
            [
             0,
             "#0d0887"
            ],
            [
             0.1111111111111111,
             "#46039f"
            ],
            [
             0.2222222222222222,
             "#7201a8"
            ],
            [
             0.3333333333333333,
             "#9c179e"
            ],
            [
             0.4444444444444444,
             "#bd3786"
            ],
            [
             0.5555555555555556,
             "#d8576b"
            ],
            [
             0.6666666666666666,
             "#ed7953"
            ],
            [
             0.7777777777777778,
             "#fb9f3a"
            ],
            [
             0.8888888888888888,
             "#fdca26"
            ],
            [
             1,
             "#f0f921"
            ]
           ],
           "sequentialminus": [
            [
             0,
             "#0d0887"
            ],
            [
             0.1111111111111111,
             "#46039f"
            ],
            [
             0.2222222222222222,
             "#7201a8"
            ],
            [
             0.3333333333333333,
             "#9c179e"
            ],
            [
             0.4444444444444444,
             "#bd3786"
            ],
            [
             0.5555555555555556,
             "#d8576b"
            ],
            [
             0.6666666666666666,
             "#ed7953"
            ],
            [
             0.7777777777777778,
             "#fb9f3a"
            ],
            [
             0.8888888888888888,
             "#fdca26"
            ],
            [
             1,
             "#f0f921"
            ]
           ]
          },
          "colorway": [
           "#636efa",
           "#EF553B",
           "#00cc96",
           "#ab63fa",
           "#FFA15A",
           "#19d3f3",
           "#FF6692",
           "#B6E880",
           "#FF97FF",
           "#FECB52"
          ],
          "font": {
           "color": "#2a3f5f"
          },
          "geo": {
           "bgcolor": "white",
           "lakecolor": "white",
           "landcolor": "#E5ECF6",
           "showlakes": true,
           "showland": true,
           "subunitcolor": "white"
          },
          "hoverlabel": {
           "align": "left"
          },
          "hovermode": "closest",
          "mapbox": {
           "style": "light"
          },
          "paper_bgcolor": "white",
          "plot_bgcolor": "#E5ECF6",
          "polar": {
           "angularaxis": {
            "gridcolor": "white",
            "linecolor": "white",
            "ticks": ""
           },
           "bgcolor": "#E5ECF6",
           "radialaxis": {
            "gridcolor": "white",
            "linecolor": "white",
            "ticks": ""
           }
          },
          "scene": {
           "xaxis": {
            "backgroundcolor": "#E5ECF6",
            "gridcolor": "white",
            "gridwidth": 2,
            "linecolor": "white",
            "showbackground": true,
            "ticks": "",
            "zerolinecolor": "white"
           },
           "yaxis": {
            "backgroundcolor": "#E5ECF6",
            "gridcolor": "white",
            "gridwidth": 2,
            "linecolor": "white",
            "showbackground": true,
            "ticks": "",
            "zerolinecolor": "white"
           },
           "zaxis": {
            "backgroundcolor": "#E5ECF6",
            "gridcolor": "white",
            "gridwidth": 2,
            "linecolor": "white",
            "showbackground": true,
            "ticks": "",
            "zerolinecolor": "white"
           }
          },
          "shapedefaults": {
           "line": {
            "color": "#2a3f5f"
           }
          },
          "ternary": {
           "aaxis": {
            "gridcolor": "white",
            "linecolor": "white",
            "ticks": ""
           },
           "baxis": {
            "gridcolor": "white",
            "linecolor": "white",
            "ticks": ""
           },
           "bgcolor": "#E5ECF6",
           "caxis": {
            "gridcolor": "white",
            "linecolor": "white",
            "ticks": ""
           }
          },
          "title": {
           "x": 0.05
          },
          "xaxis": {
           "automargin": true,
           "gridcolor": "white",
           "linecolor": "white",
           "ticks": "",
           "title": {
            "standoff": 15
           },
           "zerolinecolor": "white",
           "zerolinewidth": 2
          },
          "yaxis": {
           "automargin": true,
           "gridcolor": "white",
           "linecolor": "white",
           "ticks": "",
           "title": {
            "standoff": 15
           },
           "zerolinecolor": "white",
           "zerolinewidth": 2
          }
         }
        },
        "xaxis": {
         "anchor": "y",
         "domain": [
          0,
          1
         ],
         "title": {
          "text": "Features"
         }
        },
        "yaxis": {
         "anchor": "x",
         "domain": [
          0,
          1
         ],
         "title": {
          "text": "Training Time(s)"
         }
        }
       }
      }
     },
     "metadata": {}
    },
    {
     "output_type": "display_data",
     "data": {
      "application/vnd.plotly.v1+json": {
       "config": {
        "plotlyServerURL": "https://plot.ly"
       },
       "data": [
        {
         "hovertemplate": "<b>%{hovertext}</b><br><br>Model=PCA <br>Features=%{x}<br>Size(KB)=%{y}<extra></extra>",
         "hovertext": [
          "PCA ",
          "PCA ",
          "PCA ",
          "PCA ",
          "PCA "
         ],
         "legendgroup": "PCA ",
         "line": {
          "color": "#636EFA",
          "dash": "solid",
          "shape": "spline"
         },
         "mode": "lines",
         "name": "PCA ",
         "orientation": "h",
         "showlegend": true,
         "type": "scatter",
         "x": [
          1,
          4,
          8,
          16,
          32
         ],
         "xaxis": "x",
         "y": [
          "16.43",
          "16.86",
          "17.89",
          "21.47",
          "34.81"
         ],
         "yaxis": "y"
        },
        {
         "hovertemplate": "<b>%{hovertext}</b><br><br>Model=MCD<br>Features=%{x}<br>Size(KB)=%{y}<extra></extra>",
         "hovertext": [
          "MCD",
          "MCD",
          "MCD",
          "MCD",
          "MCD"
         ],
         "legendgroup": "MCD",
         "line": {
          "color": "#DC3912",
          "dash": "solid",
          "shape": "spline"
         },
         "mode": "lines",
         "name": "MCD",
         "orientation": "h",
         "showlegend": true,
         "type": "scatter",
         "x": [
          1,
          4,
          8,
          16,
          32
         ],
         "xaxis": "x",
         "y": [
          "17.90",
          "18.28",
          "19.5",
          "24.24",
          "42.94"
         ],
         "yaxis": "y"
        },
        {
         "hovertemplate": "<b>%{hovertext}</b><br><br>Model=OCSVM <br>Features=%{x}<br>Size(KB)=%{y}<extra></extra>",
         "hovertext": [
          "OCSVM ",
          "OCSVM ",
          "OCSVM ",
          "OCSVM ",
          "OCSVM "
         ],
         "legendgroup": "OCSVM ",
         "line": {
          "color": "#00CC96",
          "dash": "solid",
          "shape": "spline"
         },
         "mode": "lines",
         "name": "OCSVM ",
         "orientation": "h",
         "showlegend": true,
         "type": "scatter",
         "x": [
          1,
          4,
          8,
          16,
          32
         ],
         "xaxis": "x",
         "y": [
          "23.63",
          "35.69",
          "51.68",
          "83.89",
          "149.21"
         ],
         "yaxis": "y"
        },
        {
         "hovertemplate": "<b>%{hovertext}</b><br><br>Model=LMDD<br>Features=%{x}<br>Size(KB)=%{y}<extra></extra>",
         "hovertext": [
          "LMDD",
          "LMDD",
          "LMDD",
          "LMDD",
          "LMDD"
         ],
         "legendgroup": "LMDD",
         "line": {
          "color": "#AB63FA",
          "dash": "solid",
          "shape": "spline"
         },
         "mode": "lines",
         "name": "LMDD",
         "orientation": "h",
         "showlegend": true,
         "type": "scatter",
         "x": [
          1,
          4,
          8,
          16,
          32
         ],
         "xaxis": "x",
         "y": [
          "15.82",
          "15.82",
          "15.82",
          "15.82",
          "15.82"
         ],
         "yaxis": "y"
        },
        {
         "hovertemplate": "<b>%{hovertext}</b><br><br>Model=LOF <br>Features=%{x}<br>Size(KB)=%{y}<extra></extra>",
         "hovertext": [
          "LOF ",
          "LOF ",
          "LOF ",
          "LOF ",
          "LOF "
         ],
         "legendgroup": "LOF ",
         "line": {
          "color": "#FFA15A",
          "dash": "solid",
          "shape": "spline"
         },
         "mode": "lines",
         "name": "LOF ",
         "orientation": "h",
         "showlegend": true,
         "type": "scatter",
         "x": [
          1,
          4,
          8,
          16,
          32
         ],
         "xaxis": "x",
         "y": [
          "204.34",
          "231.37",
          "267.4",
          "339.46",
          "483.59"
         ],
         "yaxis": "y"
        },
        {
         "hovertemplate": "<b>%{hovertext}</b><br><br>Model=COF<br>Features=%{x}<br>Size(KB)=%{y}<extra></extra>",
         "hovertext": [
          "COF",
          "COF",
          "COF",
          "COF",
          "COF"
         ],
         "legendgroup": "COF",
         "line": {
          "color": "#19D3F3",
          "dash": "solid",
          "shape": "spline"
         },
         "mode": "lines",
         "name": "COF",
         "orientation": "h",
         "showlegend": true,
         "type": "scatter",
         "x": [
          1,
          4,
          8,
          16,
          32
         ],
         "xaxis": "x",
         "y": [
          "12.55",
          "12.55",
          "12.55",
          "12.55",
          "12.55"
         ],
         "yaxis": "y"
        },
        {
         "hovertemplate": "<b>%{hovertext}</b><br><br>Model=CBLOF<br>Features=%{x}<br>Size(KB)=%{y}<extra></extra>",
         "hovertext": [
          "CBLOF",
          "CBLOF",
          "CBLOF",
          "CBLOF",
          "CBLOF"
         ],
         "legendgroup": "CBLOF",
         "line": {
          "color": "#FF6692",
          "dash": "solid",
          "shape": "spline"
         },
         "mode": "lines",
         "name": "CBLOF",
         "orientation": "h",
         "showlegend": true,
         "type": "scatter",
         "x": [
          1,
          4,
          8,
          16,
          32
         ],
         "xaxis": "x",
         "y": [
          "20.62",
          "21.52",
          "22.74",
          "25.17",
          "29.26"
         ],
         "yaxis": "y"
        },
        {
         "hovertemplate": "<b>%{hovertext}</b><br><br>Model=HBOS<br>Features=%{x}<br>Size(KB)=%{y}<extra></extra>",
         "hovertext": [
          "HBOS",
          "HBOS",
          "HBOS",
          "HBOS",
          "HBOS"
         ],
         "legendgroup": "HBOS",
         "line": {
          "color": "#B6E880",
          "dash": "solid",
          "shape": "spline"
         },
         "mode": "lines",
         "name": "HBOS",
         "orientation": "h",
         "showlegend": true,
         "type": "scatter",
         "x": [
          1,
          4,
          8,
          16,
          32
         ],
         "xaxis": "x",
         "y": [
          "12.84",
          "13.35",
          "14.02",
          "15.37",
          "18.05"
         ],
         "yaxis": "y"
        },
        {
         "hovertemplate": "<b>%{hovertext}</b><br><br>Model=KNN<br>Features=%{x}<br>Size(KB)=%{y}<extra></extra>",
         "hovertext": [
          "KNN",
          "KNN",
          "KNN",
          "KNN",
          "KNN"
         ],
         "legendgroup": "KNN",
         "line": {
          "color": "#FF97FF",
          "dash": "solid",
          "shape": "spline"
         },
         "mode": "lines",
         "name": "KNN",
         "orientation": "h",
         "showlegend": true,
         "type": "scatter",
         "x": [
          1,
          4,
          8,
          16,
          32
         ],
         "xaxis": "x",
         "y": [
          "28.16",
          "55.19",
          "91.22",
          "163.28",
          "307.41"
         ],
         "yaxis": "y"
        },
        {
         "hovertemplate": "<b>%{hovertext}</b><br><br>Model=ABOD<br>Features=%{x}<br>Size(KB)=%{y}<extra></extra>",
         "hovertext": [
          "ABOD",
          "ABOD",
          "ABOD",
          "ABOD",
          "ABOD"
         ],
         "legendgroup": "ABOD",
         "line": {
          "color": "#16FF32",
          "dash": "solid",
          "shape": "spline"
         },
         "mode": "lines",
         "name": "ABOD",
         "orientation": "h",
         "showlegend": true,
         "type": "scatter",
         "x": [
          1,
          4,
          8,
          16,
          32
         ],
         "xaxis": "x",
         "y": [
          "26.5",
          "51.99",
          "85.97",
          "153.94",
          "289.87"
         ],
         "yaxis": "y"
        },
        {
         "hovertemplate": "<b>%{hovertext}</b><br><br>Model=IForest<br>Features=%{x}<br>Size(KB)=%{y}<extra></extra>",
         "hovertext": [
          "IForest",
          "IForest",
          "IForest",
          "IForest",
          "IForest"
         ],
         "legendgroup": "IForest",
         "line": {
          "color": "rgb(102,102,102)",
          "dash": "solid",
          "shape": "spline"
         },
         "mode": "lines",
         "name": "IForest",
         "orientation": "h",
         "showlegend": true,
         "type": "scatter",
         "x": [
          1,
          4,
          8,
          16,
          32
         ],
         "xaxis": "x",
         "y": [
          "874.99",
          "727.12",
          "728.6",
          "727.55",
          "705.39"
         ],
         "yaxis": "y"
        },
        {
         "hovertemplate": "<b>%{hovertext}</b><br><br>Model=FB <br>Features=%{x}<br>Size(KB)=%{y}<extra></extra>",
         "hovertext": [
          "FB ",
          "FB ",
          "FB ",
          "FB ",
          "FB "
         ],
         "legendgroup": "FB ",
         "line": {
          "color": "#FBE426",
          "dash": "solid",
          "shape": "spline"
         },
         "mode": "lines",
         "name": "FB ",
         "orientation": "h",
         "showlegend": true,
         "type": "scatter",
         "x": [
          1,
          4,
          8,
          16,
          32
         ],
         "xaxis": "x",
         "y": [
          "-",
          "2421.92",
          "2915.27",
          "4378.3",
          "5688.23"
         ],
         "yaxis": "y"
        }
       ],
       "layout": {
        "legend": {
         "title": {
          "text": "Model"
         },
         "tracegroupgap": 0
        },
        "margin": {
         "t": 60
        },
        "template": {
         "data": {
          "bar": [
           {
            "error_x": {
             "color": "#2a3f5f"
            },
            "error_y": {
             "color": "#2a3f5f"
            },
            "marker": {
             "line": {
              "color": "#E5ECF6",
              "width": 0.5
             }
            },
            "type": "bar"
           }
          ],
          "barpolar": [
           {
            "marker": {
             "line": {
              "color": "#E5ECF6",
              "width": 0.5
             }
            },
            "type": "barpolar"
           }
          ],
          "carpet": [
           {
            "aaxis": {
             "endlinecolor": "#2a3f5f",
             "gridcolor": "white",
             "linecolor": "white",
             "minorgridcolor": "white",
             "startlinecolor": "#2a3f5f"
            },
            "baxis": {
             "endlinecolor": "#2a3f5f",
             "gridcolor": "white",
             "linecolor": "white",
             "minorgridcolor": "white",
             "startlinecolor": "#2a3f5f"
            },
            "type": "carpet"
           }
          ],
          "choropleth": [
           {
            "colorbar": {
             "outlinewidth": 0,
             "ticks": ""
            },
            "type": "choropleth"
           }
          ],
          "contour": [
           {
            "colorbar": {
             "outlinewidth": 0,
             "ticks": ""
            },
            "colorscale": [
             [
              0,
              "#0d0887"
             ],
             [
              0.1111111111111111,
              "#46039f"
             ],
             [
              0.2222222222222222,
              "#7201a8"
             ],
             [
              0.3333333333333333,
              "#9c179e"
             ],
             [
              0.4444444444444444,
              "#bd3786"
             ],
             [
              0.5555555555555556,
              "#d8576b"
             ],
             [
              0.6666666666666666,
              "#ed7953"
             ],
             [
              0.7777777777777778,
              "#fb9f3a"
             ],
             [
              0.8888888888888888,
              "#fdca26"
             ],
             [
              1,
              "#f0f921"
             ]
            ],
            "type": "contour"
           }
          ],
          "contourcarpet": [
           {
            "colorbar": {
             "outlinewidth": 0,
             "ticks": ""
            },
            "type": "contourcarpet"
           }
          ],
          "heatmap": [
           {
            "colorbar": {
             "outlinewidth": 0,
             "ticks": ""
            },
            "colorscale": [
             [
              0,
              "#0d0887"
             ],
             [
              0.1111111111111111,
              "#46039f"
             ],
             [
              0.2222222222222222,
              "#7201a8"
             ],
             [
              0.3333333333333333,
              "#9c179e"
             ],
             [
              0.4444444444444444,
              "#bd3786"
             ],
             [
              0.5555555555555556,
              "#d8576b"
             ],
             [
              0.6666666666666666,
              "#ed7953"
             ],
             [
              0.7777777777777778,
              "#fb9f3a"
             ],
             [
              0.8888888888888888,
              "#fdca26"
             ],
             [
              1,
              "#f0f921"
             ]
            ],
            "type": "heatmap"
           }
          ],
          "heatmapgl": [
           {
            "colorbar": {
             "outlinewidth": 0,
             "ticks": ""
            },
            "colorscale": [
             [
              0,
              "#0d0887"
             ],
             [
              0.1111111111111111,
              "#46039f"
             ],
             [
              0.2222222222222222,
              "#7201a8"
             ],
             [
              0.3333333333333333,
              "#9c179e"
             ],
             [
              0.4444444444444444,
              "#bd3786"
             ],
             [
              0.5555555555555556,
              "#d8576b"
             ],
             [
              0.6666666666666666,
              "#ed7953"
             ],
             [
              0.7777777777777778,
              "#fb9f3a"
             ],
             [
              0.8888888888888888,
              "#fdca26"
             ],
             [
              1,
              "#f0f921"
             ]
            ],
            "type": "heatmapgl"
           }
          ],
          "histogram": [
           {
            "marker": {
             "colorbar": {
              "outlinewidth": 0,
              "ticks": ""
             }
            },
            "type": "histogram"
           }
          ],
          "histogram2d": [
           {
            "colorbar": {
             "outlinewidth": 0,
             "ticks": ""
            },
            "colorscale": [
             [
              0,
              "#0d0887"
             ],
             [
              0.1111111111111111,
              "#46039f"
             ],
             [
              0.2222222222222222,
              "#7201a8"
             ],
             [
              0.3333333333333333,
              "#9c179e"
             ],
             [
              0.4444444444444444,
              "#bd3786"
             ],
             [
              0.5555555555555556,
              "#d8576b"
             ],
             [
              0.6666666666666666,
              "#ed7953"
             ],
             [
              0.7777777777777778,
              "#fb9f3a"
             ],
             [
              0.8888888888888888,
              "#fdca26"
             ],
             [
              1,
              "#f0f921"
             ]
            ],
            "type": "histogram2d"
           }
          ],
          "histogram2dcontour": [
           {
            "colorbar": {
             "outlinewidth": 0,
             "ticks": ""
            },
            "colorscale": [
             [
              0,
              "#0d0887"
             ],
             [
              0.1111111111111111,
              "#46039f"
             ],
             [
              0.2222222222222222,
              "#7201a8"
             ],
             [
              0.3333333333333333,
              "#9c179e"
             ],
             [
              0.4444444444444444,
              "#bd3786"
             ],
             [
              0.5555555555555556,
              "#d8576b"
             ],
             [
              0.6666666666666666,
              "#ed7953"
             ],
             [
              0.7777777777777778,
              "#fb9f3a"
             ],
             [
              0.8888888888888888,
              "#fdca26"
             ],
             [
              1,
              "#f0f921"
             ]
            ],
            "type": "histogram2dcontour"
           }
          ],
          "mesh3d": [
           {
            "colorbar": {
             "outlinewidth": 0,
             "ticks": ""
            },
            "type": "mesh3d"
           }
          ],
          "parcoords": [
           {
            "line": {
             "colorbar": {
              "outlinewidth": 0,
              "ticks": ""
             }
            },
            "type": "parcoords"
           }
          ],
          "pie": [
           {
            "automargin": true,
            "type": "pie"
           }
          ],
          "scatter": [
           {
            "marker": {
             "colorbar": {
              "outlinewidth": 0,
              "ticks": ""
             }
            },
            "type": "scatter"
           }
          ],
          "scatter3d": [
           {
            "line": {
             "colorbar": {
              "outlinewidth": 0,
              "ticks": ""
             }
            },
            "marker": {
             "colorbar": {
              "outlinewidth": 0,
              "ticks": ""
             }
            },
            "type": "scatter3d"
           }
          ],
          "scattercarpet": [
           {
            "marker": {
             "colorbar": {
              "outlinewidth": 0,
              "ticks": ""
             }
            },
            "type": "scattercarpet"
           }
          ],
          "scattergeo": [
           {
            "marker": {
             "colorbar": {
              "outlinewidth": 0,
              "ticks": ""
             }
            },
            "type": "scattergeo"
           }
          ],
          "scattergl": [
           {
            "marker": {
             "colorbar": {
              "outlinewidth": 0,
              "ticks": ""
             }
            },
            "type": "scattergl"
           }
          ],
          "scattermapbox": [
           {
            "marker": {
             "colorbar": {
              "outlinewidth": 0,
              "ticks": ""
             }
            },
            "type": "scattermapbox"
           }
          ],
          "scatterpolar": [
           {
            "marker": {
             "colorbar": {
              "outlinewidth": 0,
              "ticks": ""
             }
            },
            "type": "scatterpolar"
           }
          ],
          "scatterpolargl": [
           {
            "marker": {
             "colorbar": {
              "outlinewidth": 0,
              "ticks": ""
             }
            },
            "type": "scatterpolargl"
           }
          ],
          "scatterternary": [
           {
            "marker": {
             "colorbar": {
              "outlinewidth": 0,
              "ticks": ""
             }
            },
            "type": "scatterternary"
           }
          ],
          "surface": [
           {
            "colorbar": {
             "outlinewidth": 0,
             "ticks": ""
            },
            "colorscale": [
             [
              0,
              "#0d0887"
             ],
             [
              0.1111111111111111,
              "#46039f"
             ],
             [
              0.2222222222222222,
              "#7201a8"
             ],
             [
              0.3333333333333333,
              "#9c179e"
             ],
             [
              0.4444444444444444,
              "#bd3786"
             ],
             [
              0.5555555555555556,
              "#d8576b"
             ],
             [
              0.6666666666666666,
              "#ed7953"
             ],
             [
              0.7777777777777778,
              "#fb9f3a"
             ],
             [
              0.8888888888888888,
              "#fdca26"
             ],
             [
              1,
              "#f0f921"
             ]
            ],
            "type": "surface"
           }
          ],
          "table": [
           {
            "cells": {
             "fill": {
              "color": "#EBF0F8"
             },
             "line": {
              "color": "white"
             }
            },
            "header": {
             "fill": {
              "color": "#C8D4E3"
             },
             "line": {
              "color": "white"
             }
            },
            "type": "table"
           }
          ]
         },
         "layout": {
          "annotationdefaults": {
           "arrowcolor": "#2a3f5f",
           "arrowhead": 0,
           "arrowwidth": 1
          },
          "coloraxis": {
           "colorbar": {
            "outlinewidth": 0,
            "ticks": ""
           }
          },
          "colorscale": {
           "diverging": [
            [
             0,
             "#8e0152"
            ],
            [
             0.1,
             "#c51b7d"
            ],
            [
             0.2,
             "#de77ae"
            ],
            [
             0.3,
             "#f1b6da"
            ],
            [
             0.4,
             "#fde0ef"
            ],
            [
             0.5,
             "#f7f7f7"
            ],
            [
             0.6,
             "#e6f5d0"
            ],
            [
             0.7,
             "#b8e186"
            ],
            [
             0.8,
             "#7fbc41"
            ],
            [
             0.9,
             "#4d9221"
            ],
            [
             1,
             "#276419"
            ]
           ],
           "sequential": [
            [
             0,
             "#0d0887"
            ],
            [
             0.1111111111111111,
             "#46039f"
            ],
            [
             0.2222222222222222,
             "#7201a8"
            ],
            [
             0.3333333333333333,
             "#9c179e"
            ],
            [
             0.4444444444444444,
             "#bd3786"
            ],
            [
             0.5555555555555556,
             "#d8576b"
            ],
            [
             0.6666666666666666,
             "#ed7953"
            ],
            [
             0.7777777777777778,
             "#fb9f3a"
            ],
            [
             0.8888888888888888,
             "#fdca26"
            ],
            [
             1,
             "#f0f921"
            ]
           ],
           "sequentialminus": [
            [
             0,
             "#0d0887"
            ],
            [
             0.1111111111111111,
             "#46039f"
            ],
            [
             0.2222222222222222,
             "#7201a8"
            ],
            [
             0.3333333333333333,
             "#9c179e"
            ],
            [
             0.4444444444444444,
             "#bd3786"
            ],
            [
             0.5555555555555556,
             "#d8576b"
            ],
            [
             0.6666666666666666,
             "#ed7953"
            ],
            [
             0.7777777777777778,
             "#fb9f3a"
            ],
            [
             0.8888888888888888,
             "#fdca26"
            ],
            [
             1,
             "#f0f921"
            ]
           ]
          },
          "colorway": [
           "#636efa",
           "#EF553B",
           "#00cc96",
           "#ab63fa",
           "#FFA15A",
           "#19d3f3",
           "#FF6692",
           "#B6E880",
           "#FF97FF",
           "#FECB52"
          ],
          "font": {
           "color": "#2a3f5f"
          },
          "geo": {
           "bgcolor": "white",
           "lakecolor": "white",
           "landcolor": "#E5ECF6",
           "showlakes": true,
           "showland": true,
           "subunitcolor": "white"
          },
          "hoverlabel": {
           "align": "left"
          },
          "hovermode": "closest",
          "mapbox": {
           "style": "light"
          },
          "paper_bgcolor": "white",
          "plot_bgcolor": "#E5ECF6",
          "polar": {
           "angularaxis": {
            "gridcolor": "white",
            "linecolor": "white",
            "ticks": ""
           },
           "bgcolor": "#E5ECF6",
           "radialaxis": {
            "gridcolor": "white",
            "linecolor": "white",
            "ticks": ""
           }
          },
          "scene": {
           "xaxis": {
            "backgroundcolor": "#E5ECF6",
            "gridcolor": "white",
            "gridwidth": 2,
            "linecolor": "white",
            "showbackground": true,
            "ticks": "",
            "zerolinecolor": "white"
           },
           "yaxis": {
            "backgroundcolor": "#E5ECF6",
            "gridcolor": "white",
            "gridwidth": 2,
            "linecolor": "white",
            "showbackground": true,
            "ticks": "",
            "zerolinecolor": "white"
           },
           "zaxis": {
            "backgroundcolor": "#E5ECF6",
            "gridcolor": "white",
            "gridwidth": 2,
            "linecolor": "white",
            "showbackground": true,
            "ticks": "",
            "zerolinecolor": "white"
           }
          },
          "shapedefaults": {
           "line": {
            "color": "#2a3f5f"
           }
          },
          "ternary": {
           "aaxis": {
            "gridcolor": "white",
            "linecolor": "white",
            "ticks": ""
           },
           "baxis": {
            "gridcolor": "white",
            "linecolor": "white",
            "ticks": ""
           },
           "bgcolor": "#E5ECF6",
           "caxis": {
            "gridcolor": "white",
            "linecolor": "white",
            "ticks": ""
           }
          },
          "title": {
           "x": 0.05
          },
          "xaxis": {
           "automargin": true,
           "gridcolor": "white",
           "linecolor": "white",
           "ticks": "",
           "title": {
            "standoff": 15
           },
           "zerolinecolor": "white",
           "zerolinewidth": 2
          },
          "yaxis": {
           "automargin": true,
           "gridcolor": "white",
           "linecolor": "white",
           "ticks": "",
           "title": {
            "standoff": 15
           },
           "zerolinecolor": "white",
           "zerolinewidth": 2
          }
         }
        },
        "xaxis": {
         "anchor": "y",
         "domain": [
          0,
          1
         ],
         "title": {
          "text": "Features"
         }
        },
        "yaxis": {
         "anchor": "x",
         "domain": [
          0,
          1
         ],
         "title": {
          "text": "Size(KB)"
         },
         "type": "log"
        }
       }
      }
     },
     "metadata": {}
    }
   ],
   "source": [
    "g= px.colors.qualitative.G10\n",
    "p= px.colors.qualitative.Plotly\n",
    "a= px.colors.qualitative.Alphabet\n",
    "d= px.colors.qualitative.Dark2\n",
    "colors= [p[0],g[1],p[2],p[3],p[4],p[5],p[6],p[7],p[8],a[6],d[7],a[24]]\n",
    "\n",
    "fig1 = px.line(samples, x=\"Training Samples\", y=\"Training Time(s)\", color=\"Model\", line_group=\"Model\", hover_name=\"Model\",\n",
    "        line_shape=\"spline\", render_mode=\"svg\",color_discrete_sequence=colors, log_y=False)\n",
    "\n",
    "fig2 = px.line(samples, x=\"Training Samples\", y=\"Size(KB)\", color=\"Model\", line_group=\"Model\", hover_name=\"Model\",\n",
    "        line_shape=\"spline\", render_mode=\"svg\",color_discrete_sequence=colors, log_y=True)\n",
    "\n",
    "fig3 = px.line(features, x=\"Features\", y=\"Training Time(s)\", color=\"Model\", line_group=\"Model\", hover_name=\"Model\",\n",
    "        line_shape=\"spline\", render_mode=\"svg\",color_discrete_sequence=colors, log_y=False)\n",
    "\n",
    "fig4 = px.line(features, x=\"Features\", y=\"Size(KB)\", color=\"Model\", line_group=\"Model\", hover_name=\"Model\",\n",
    "        line_shape=\"spline\", render_mode=\"svg\",color_discrete_sequence=colors, log_y=True)\n",
    "\n",
    "# fig5 = px.line(samples, x=\"Training Samples\", y=\"Inference Time(ms)\", color=\"Model\", line_group=\"Model\", hover_name=\"Model\",\n",
    "#         line_shape=\"spline\", render_mode=\"svg\",color_discrete_sequence=colors, log_y=True)\n",
    "\n",
    "# fig6 = px.line(features, x=\"Features\", y=\"Inference Time(ms)\", color=\"Model\", line_group=\"Model\", hover_name=\"Model\",\n",
    "#         line_shape=\"spline\", render_mode=\"svg\",color_discrete_sequence=colors, log_y=True)\n",
    "\n",
    "\n",
    "fig1.show()\n",
    "fig2.show()\n",
    "fig3.show()\n",
    "fig4.show()\n",
    "# fig5.show()\n",
    "# fig6.show()\n"
   ]
  },
  {
   "cell_type": "code",
   "execution_count": null,
   "metadata": {},
   "outputs": [],
   "source": []
  }
 ]
}