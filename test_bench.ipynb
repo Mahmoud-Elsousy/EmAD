{
 "cells": [
  {
   "cell_type": "code",
   "execution_count": 19,
   "metadata": {},
   "outputs": [],
   "source": [
    "import pandas as pd\n",
    "import numpy as np\n",
    "import matplotlib.pyplot as plt\n",
    "\n",
    "from pyod.utils.data import generate_data_clusters\n",
    "from pyod.utils.data import generate_data\n",
    "\n",
    "from pyod.models.iforest import IForest\n",
    "from pyod.models.knn import KNN\n",
    "from pyod.models.lof import LOF\n",
    "\n",
    "from joblib import dump, load\n",
    "\n",
    "# import warnings\n",
    "# warnings.filterwarnings(\"ignore\", category=DeprecationWarning) \n",
    "\n",
    "random_state = np.random.RandomState(3)\n",
    "outliers_fraction = 0.1"
   ]
  },
  {
   "cell_type": "code",
   "execution_count": 20,
   "metadata": {},
   "outputs": [
    {
     "name": "stdout",
     "output_type": "stream",
     "text": [
      "Xtr Shape: (1000, 3)\n",
      "Ytr Shape: (1000,)\n"
     ]
    }
   ],
   "source": [
    "# Generate Data\n",
    "# xtr, ytr = generate_data(n_train=200, n_test=50, n_features=2, contamination=0.1,\n",
    "#                   train_only=True, offset=10, behaviour='new',\n",
    "#                   random_state=random_state)\n",
    "\n",
    "\n",
    "# xtr, xte, ytr, yte = generate_data(n_train=200, n_test=50, n_features=2, contamination=0.1,\n",
    "#                   train_only=False, offset=10, behaviour='new',\n",
    "#                   random_state=None)\n",
    "\n",
    "\n",
    "xtr, xte, ytr, yte = generate_data_clusters(n_train=1000, n_test=500, n_clusters=5,\n",
    "                       n_features=3, contamination=0.1, size='same',\n",
    "                       density='same', dist=0.25, random_state=random_state,\n",
    "                       return_in_clusters=False)\n",
    "\n",
    "print('Xtr Shape: ' + str(xtr.shape))\n",
    "print('Ytr Shape: ' + str(ytr.shape))\n",
    "\n",
    "# print('Xte Shape: ' + str(xte.shape))\n",
    "# print('Yte Shape: ' + str(yte.shape))\n"
   ]
  },
  {
   "cell_type": "code",
   "execution_count": 6,
   "metadata": {
    "collapsed": true,
    "jupyter": {
     "outputs_hidden": true,
     "source_hidden": true
    }
   },
   "outputs": [
    {
     "data": {
      "image/png": "[encoded data removed]",
      "text/plain": [
       "<Figure size 720x720 with 3 Axes>"
      ]
     },
     "metadata": {
      "needs_background": "light"
     },
     "output_type": "display_data"
    }
   ],
   "source": [
    "# Plot Data\n",
    "\n",
    "# Set up the axes with gridspec\n",
    "fig = plt.figure(figsize=(10, 10))\n",
    "grid = plt.GridSpec(4, 4, hspace=0.2, wspace=0.2)\n",
    "main_ax = fig.add_subplot(grid[:-1, 1:])\n",
    "y_hist = fig.add_subplot(grid[:-1, 0], xticklabels=[], sharey=main_ax)\n",
    "x_hist = fig.add_subplot(grid[-1, 1:], yticklabels=[], sharex=main_ax)\n",
    "\n",
    "# scatter points on the main axes\n",
    "main_ax.plot(xtr[:,0], xtr[:,1],'mo', markersize=3, alpha=0.8)\n",
    "\n",
    "# histogram on the attached axes\n",
    "x_hist.hist(xtr[:,0], 200, histtype='stepfilled',\n",
    "            orientation='vertical', color='blue')\n",
    "x_hist.invert_yaxis()\n",
    "\n",
    "y_hist.hist(xtr[:,1], 200, histtype='stepfilled',\n",
    "            orientation='horizontal', color='green')\n",
    "y_hist.invert_xaxis()\n",
    "\n",
    "\n"
   ]
  },
  {
   "cell_type": "code",
   "execution_count": 21,
   "metadata": {},
   "outputs": [],
   "source": [
    "# Define outlier detection methods to be compared\n",
    "classifiers = {\n",
    "    'Isolation Forest': IForest(contamination=outliers_fraction, random_state=random_state),\n",
    "   \n",
    "    'K Nearest Neighbors (KNN)': KNN(contamination=outliers_fraction),\n",
    "    \n",
    "    'Average KNN': KNN(method='mean',contamination=outliers_fraction),\n",
    "    \n",
    "    'Local Outlier Factor (LOF)': LOF(n_neighbors=35, contamination=outliers_fraction),\n",
    "}\n",
    "\n",
    "# # List all detectors\n",
    "# for i, clf in enumerate(classifiers.keys()):\n",
    "#     print(repr(classifiers[clf]))"
   ]
  },
  {
   "cell_type": "code",
   "execution_count": 22,
   "metadata": {},
   "outputs": [
    {
     "name": "stdout",
     "output_type": "stream",
     "text": [
      "\n",
      " \n",
      " 1 fitting Isolation Forest\n"
     ]
    },
    {
     "name": "stderr",
     "output_type": "stream",
     "text": [
      "/home/mks/anaconda3/envs/dev-env/lib/python3.6/site-packages/scipy/stats/stats.py:1706: FutureWarning: Using a non-tuple sequence for multidimensional indexing is deprecated; use `arr[tuple(seq)]` instead of `arr[seq]`. In the future this will be interpreted as an array index, `arr[np.array(seq)]`, which will result either in an error or a different result.\n",
      "  return np.add.reduce(sorted[indexer] * weights, axis=axis) / sumval\n"
     ]
    },
    {
     "name": "stdout",
     "output_type": "stream",
     "text": [
      "Erros Training Data:  8\n",
      "Erros Testing Data:  1\n",
      "First 5 samples [0 0 0 0 0]\n",
      "\n",
      " \n",
      " 2 fitting K Nearest Neighbors (KNN)\n",
      "Erros Training Data:  6\n",
      "Erros Testing Data:  3\n",
      "First 5 samples [0 0 0 0 0]\n",
      "\n",
      " \n",
      " 3 fitting Average KNN\n",
      "Erros Training Data:  4\n",
      "Erros Testing Data:  2\n",
      "First 5 samples [0 0 0 0 0]\n",
      "\n",
      " \n",
      " 4 fitting Local Outlier Factor (LOF)\n",
      "Erros Training Data:  8\n",
      "Erros Testing Data:  4\n",
      "First 5 samples [0 0 0 0 0]\n"
     ]
    }
   ],
   "source": [
    "# Fit the models with the generated data and \n",
    "# compare model performances\n",
    "\n",
    "# Fit the model\n",
    "for i, (clf_name, clf) in enumerate(classifiers.items()):\n",
    "    print('\\n \\n',i + 1, 'fitting', clf_name)\n",
    "    # fit the data and tag outliers\n",
    "    clf.fit(xtr)\n",
    "#     scores_pred = clf.decision_function(xtr) * -1\n",
    "    y_pred = clf.predict(xtr)\n",
    "#     threshold = np.percentile(scores_pred, 100 * outliers_fraction)\n",
    "#     print('Threshold: ', threshold)\n",
    "    n_errors = (y_pred != ytr).sum()\n",
    "    print('Erros Training Data: ', n_errors)\n",
    "    \n",
    "    yte_pred = clf.predict(xte)\n",
    "    nte_errors = (yte_pred != yte).sum()\n",
    "    print('Erros Testing Data: ', nte_errors)\n",
    "    print('First 5 samples',yte_pred[:5] )\n",
    "    \n",
    "    # Serielize model\n",
    "    dump(clf, str(clf_name) + '.joblib')"
   ]
  },
  {
   "cell_type": "code",
   "execution_count": 9,
   "metadata": {},
   "outputs": [],
   "source": [
    "old_det = classifiers['Isolation Forest']"
   ]
  },
  {
   "cell_type": "code",
   "execution_count": 10,
   "metadata": {},
   "outputs": [
    {
     "data": {
      "text/plain": [
       "['iForest.joblib']"
      ]
     },
     "execution_count": 10,
     "metadata": {},
     "output_type": "execute_result"
    }
   ],
   "source": [
    "\n",
    "dump(old_det, 'iForest.joblib')"
   ]
  },
  {
   "cell_type": "code",
   "execution_count": 11,
   "metadata": {},
   "outputs": [],
   "source": [
    "new_det = load('iForest.joblib')"
   ]
  },
  {
   "cell_type": "code",
   "execution_count": 12,
   "metadata": {},
   "outputs": [
    {
     "name": "stdout",
     "output_type": "stream",
     "text": [
      "IForest(behaviour='old', bootstrap=False, contamination=0.1, max_features=1.0,\n",
      "    max_samples='auto', n_estimators=100, n_jobs=1,\n",
      "    random_state=<mtrand.RandomState object at 0x7f2ab14ad090>, verbose=0)\n"
     ]
    }
   ],
   "source": [
    "print(new_det)"
   ]
  },
  {
   "cell_type": "code",
   "execution_count": 18,
   "metadata": {},
   "outputs": [
    {
     "name": "stdout",
     "output_type": "stream",
     "text": [
      "IForest(behaviour='old', bootstrap=False, contamination=0.1, max_features=1.0,\n",
      "    max_samples='auto', n_estimators=100, n_jobs=1,\n",
      "    random_state=<mtrand.RandomState object at 0x7f2aae871ea0>, verbose=0)\n"
     ]
    }
   ],
   "source": [
    "import pickle\n",
    "\n",
    "\n",
    "with open('iForest.pickle', 'wb') as handle:\n",
    "    pickle.dump(old_det, handle, protocol=pickle.HIGHEST_PROTOCOL)\n",
    "\n",
    "# Load data (deserialize)\n",
    "with open('iForest.pickle', 'rb') as handle:\n",
    "    unserialized_data = pickle.load(handle)\n",
    "\n",
    "print(unserialized_data)"
   ]
  },
  {
   "cell_type": "code",
   "execution_count": 13,
   "metadata": {},
   "outputs": [
    {
     "name": "stdout",
     "output_type": "stream",
     "text": [
      "Erros Testing Data:  1\n",
      "First 5 samples [0 0 0 0 0]\n"
     ]
    }
   ],
   "source": [
    "yte_pred = new_det.predict(xte)\n",
    "nte_errors = (yte_pred != yte).sum()\n",
    "print('Erros Testing Data: ', nte_errors)\n",
    "print('First 5 samples',yte_pred[:5] )"
   ]
  },
  {
   "cell_type": "code",
   "execution_count": null,
   "metadata": {},
   "outputs": [],
   "source": [
    "from pyod.utils.data import get_outliers_inliers\n",
    "import matplotlib.pyplot as plt\n",
    "def data_visualize(X_train, y_train, show_figure=True,\n",
    "                   save_figure=False):\n",
    "\n",
    "    def _plot(X_inliers, X_outliers, inlier_color='blue',\n",
    "              outlier_color='orange'):\n",
    "        plt.axis(\"equal\")\n",
    "        plt.scatter(X_inliers[:, 0], X_inliers[:, 1], label='inliers',\n",
    "                    color=inlier_color, s=40)\n",
    "        plt.scatter(X_outliers[:, 0], X_outliers[:, 1],\n",
    "                    label='outliers', color=outlier_color, s=50, marker='^')\n",
    "        plt.xticks([])\n",
    "        plt.yticks([])\n",
    "        plt.legend(loc='best', prop={'size': 10})\n",
    "\n",
    "    assert len(X_train[0]) <= 5\n",
    "    in_colors = ['blue', 'green', 'purple', 'brown', 'black']\n",
    "    out_colors = ['red', 'orange', 'grey', 'violet', 'pink']\n",
    "    plt.figure(figsize=(13, 10))\n",
    "    plt.suptitle(\"Demo of Generating Data in Clusters\", fontsize=15)\n",
    "    for i, cluster in enumerate(X_train):\n",
    "        X_train_outliers, X_train_inliers = get_outliers_inliers(cluster,\n",
    "                                                                 y_train[i])\n",
    "        _plot(X_train_inliers, X_train_outliers,\n",
    "              inlier_color=in_colors[i%5],\n",
    "              outlier_color=out_colors[i%5])\n",
    "\n",
    "    if save_figure:\n",
    "        plt.savefig()\n",
    "\n",
    "    if show_figure:\n",
    "        plt.show()\n",
    "data_visualize(xtr, ytr, show_figure=True, save_figure=False)\n",
    "# for i, cluster in enumerate(xtr):\n",
    "#     print('i= ', i%5, '\\n',cluster, '\\n')"
   ]
  },
  {
   "cell_type": "code",
   "execution_count": null,
   "metadata": {},
   "outputs": [],
   "source": [
    "X_train, X_test, y_train, y_test = generate_data_clusters(n_train=1000, n_test=500, n_clusters=4,\n",
    "                       n_features=3, contamination=0.1, size='same',\n",
    "                       density='same', dist=0.25, random_state=None,\n",
    "                       return_in_clusters=True)\n",
    "\n",
    "print(X_train.shape)\n",
    "\n",
    "# from pyod.utils.example import data_visualize\n",
    "\n",
    "# data_visualize(X_train, y_train, show_figure=True, save_figure=False)"
   ]
  },
  {
   "cell_type": "code",
   "execution_count": null,
   "metadata": {
    "jupyter": {
     "source_hidden": true
    }
   },
   "outputs": [],
   "source": [
    "# Fit the models with the generated data and \n",
    "# compare model performances\n",
    "\n",
    "# Fit the model\n",
    "plt.figure(figsize=(15, 12))\n",
    "for i, (clf_name, clf) in enumerate(classifiers.items()):\n",
    "    print(i + 1, 'fitting', clf_name)\n",
    "    # fit the data and tag outliers\n",
    "    clf.fit(X_train)\n",
    "    scores_pred = clf.decision_function(X_train) * -1\n",
    "    y_pred = clf.predict(X_train)\n",
    "    threshold = percentile(scores_pred, 100 * outliers_fraction)\n",
    "    n_errors = (y_pred != ground_truth).sum()\n",
    "    # plot the levels lines and the points\n",
    "\n",
    "    Z = clf.decision_function(np.c_[xx.ravel(), yy.ravel()]) * -1\n",
    "    Z = Z.reshape(xx.shape)\n",
    "    subplot = plt.subplot(3, 4, i + 1)\n",
    "    subplot.contourf(xx, yy, Z, levels=np.linspace(Z.min(), threshold, 7),\n",
    "                     cmap=plt.cm.Blues_r)\n",
    "    a = subplot.contour(xx, yy, Z, levels=[threshold],\n",
    "                        linewidths=2, colors='red')\n",
    "    subplot.contourf(xx, yy, Z, levels=[threshold, Z.max()],\n",
    "                     colors='orange')\n",
    "    b = subplot.scatter(X[:-n_outliers, 0], X[:-n_outliers, 1], c='white',\n",
    "                        s=20, edgecolor='k')\n",
    "    c = subplot.scatter(X[-n_outliers:, 0], X[-n_outliers:, 1], c='black',\n",
    "                        s=20, edgecolor='k')\n",
    "    subplot.axis('tight')\n",
    "    subplot.legend(\n",
    "        [a.collections[0], b, c],\n",
    "        ['learned decision function', 'true inliers', 'true outliers'],\n",
    "        prop=matplotlib.font_manager.FontProperties(size=10),\n",
    "        loc='lower right')\n",
    "    subplot.set_xlabel(\"%d. %s (errors: %d)\" % (i + 1, clf_name, n_errors))\n",
    "    subplot.set_xlim((-7, 7))\n",
    "    subplot.set_ylim((-7, 7))\n",
    "plt.subplots_adjust(0.04, 0.1, 0.96, 0.94, 0.1, 0.26)\n",
    "plt.suptitle(\"Outlier detection\")\n",
    "plt.show()"
   ]
  },
  {
   "cell_type": "code",
   "execution_count": null,
   "metadata": {
    "jupyter": {
     "source_hidden": true
    }
   },
   "outputs": [],
   "source": [
    "# Create some normally distributed data\n",
    "# import numpy as np\n",
    "# mean = [0, 0]\n",
    "# cov = [[1, 1], [1, 2]]\n",
    "# x, y = np.random.multivariate_normal(mean, cov, 3000).T"
   ]
  },
  {
   "cell_type": "code",
   "execution_count": null,
   "metadata": {
    "jupyter": {
     "source_hidden": true
    }
   },
   "outputs": [],
   "source": [
    "import matplotlib.pyplot as plt\n",
    "\n",
    "plt.figure(figsize=(15, 10))\n",
    "\n",
    "plt.subplot(311)\n",
    "plt.plot(X_test[:,0])\n",
    "\n",
    "plt.subplot(312)\n",
    "plt.plot(X_test[:,1],'g')\n",
    "\n",
    "plt.subplot(313)\n",
    "plt.scatter(x=X_test[:,0], y=X_test[:,1],c=y_test)\n",
    "\n",
    "\n",
    "plt.suptitle('Data')\n",
    "plt.show()"
   ]
  },
  {
   "cell_type": "code",
   "execution_count": null,
   "metadata": {
    "jupyter": {
     "source_hidden": true
    }
   },
   "outputs": [],
   "source": [
    "# Reference Node 3D Plotting:\n",
    "\n",
    "# import matplotlib.pyplot as plt\n",
    "# from mpl_toolkits.mplot3d import Axes3D\n",
    "\n",
    "# X_train, X_test, y_train, y_test = generate_data_clusters(n_train=100, n_test=50, n_clusters=2,\n",
    "#                        n_features=3, contamination=0.1, size='same',\n",
    "#                        density='same', dist=0.30, random_state=None,\n",
    "#                        return_in_clusters=False)\n",
    "\n",
    "# data = pd.DataFrame(X_train,columns=['x1', 'x2', 'x3'])\n",
    "# data['y'] = pd.Series(y_train)\n",
    "\n",
    "# fig = plt.figure()\n",
    "# ax = fig.add_subplot(111, projection='3d')\n",
    "\n",
    "# # For each set of style and range settings, plot n random points in the box\n",
    "# # defined by x in [23, 32], y in [0, 100], z in [zlow, zhigh].\n",
    "\n",
    "# ax.scatter(data.x1, data.x2, data.x3,c=data.y,cmap='cool' )\n",
    "\n",
    "# ax.set_xlabel('X Label')\n",
    "# ax.set_ylabel('Y Label')\n",
    "# ax.set_zlabel('Z Label')\n",
    "\n",
    "# plt.show()"
   ]
  }
 ],
 "metadata": {
  "kernelspec": {
   "display_name": "Python 3",
   "language": "python",
   "name": "python3"
  },
  "language_info": {
   "codemirror_mode": {
    "name": "ipython",
    "version": 3
   },
   "file_extension": ".py",
   "mimetype": "text/x-python",
   "name": "python",
   "nbconvert_exporter": "python",
   "pygments_lexer": "ipython3",
   "version": "3.7.6"
  }
 },
 "nbformat": 4,
 "nbformat_minor": 4
}
